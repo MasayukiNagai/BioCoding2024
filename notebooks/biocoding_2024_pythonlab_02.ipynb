{
 "cells": [
  {
   "cell_type": "markdown",
   "id": "27960400-2058-42aa-aec8-aea0a61cef21",
   "metadata": {},
   "source": [
    "# Review print, variables, and data types"
   ]
  },
  {
   "cell_type": "markdown",
   "id": "65431ccd-1d41-4600-b9b8-a40d0b5a28d4",
   "metadata": {},
   "source": [
    "In the first session, we learned how to print out values to the screeen using `print`. We also learned that we can store values in **variables** and use them by calling their names. Variables can store different types of data such as integers (`int`), decimals (`float`), strings (`str`), and booleans (`bool`).\n",
    "\n",
    "Which of the following variables do you think is a **string**? (*hint*: String stores sequence of characters, typically text)\n",
    "\n",
    "```\n",
    "a = \"string\"\n",
    "b = 'two'\n",
    "c = 3\n",
    "d = '3'\n",
    "\n",
    "```\n",
    "\n",
    "I hope you can tell which variable is a string but we can also let Python tell us!\n",
    "\n",
    "First, let's create these variables by running the cell below:"
   ]
  },
  {
   "cell_type": "code",
   "execution_count": null,
   "id": "461e801a-37ca-4d23-ad38-1fa4849b8969",
   "metadata": {},
   "outputs": [],
   "source": [
    "a = 'string'\n",
    "b = 'two'\n",
    "c = 3\n",
    "d = '3'"
   ]
  },
  {
   "cell_type": "markdown",
   "id": "c2f3b23d-316d-453a-951f-9f5e56457e5e",
   "metadata": {},
   "source": [
    "Python has a built in function called `type` that tells you the type of information contained in a variable. Since we want to ask Python which of the variables is a string, we can simply run the function `type` on the variables. Try it, completing the cell below:"
   ]
  },
  {
   "cell_type": "code",
   "execution_count": null,
   "id": "8fae2e0c-0458-4cdc-ad18-a93980e5ea20",
   "metadata": {},
   "outputs": [],
   "source": [
    "print(type(a))\n",
    "\n",
    "### Use the print() and type() functions for variables b, c, and d ###"
   ]
  },
  {
   "cell_type": "markdown",
   "id": "1d663048-494f-4f9d-b547-f71fc4de4d6c",
   "metadata": {},
   "source": [
    "Did you notice that variable `c` and `d` have a different data type even though both of them seem to store `3`?\n",
    "\n",
    "Write code in the cell below to do the following:\n",
    "\n",
    "1. Create a new variable, `e`,  and assign it the value of `1.5` as string\n",
    "2. Print the type of variable `e` and confirm it is a string\n",
    "3. Create another new variable, `f`, and assign it the value of `1.5` as float\n",
    "4. Print the type of variable `f` and confirm it is a float"
   ]
  },
  {
   "cell_type": "code",
   "execution_count": null,
   "id": "e1e7c23a-f606-4c8b-bd98-be95be3c565c",
   "metadata": {},
   "outputs": [],
   "source": [
    "### Write your code here for 1 & 2 ###\n",
    "e = \n"
   ]
  },
  {
   "cell_type": "code",
   "execution_count": null,
   "id": "5a7ac25b-909c-4b04-900d-5619335d7581",
   "metadata": {},
   "outputs": [],
   "source": [
    "### Write your code here for 3 & 4 ###\n",
    "f =\n"
   ]
  },
  {
   "cell_type": "markdown",
   "id": "78d8befb-8b81-41f2-a87d-bf63ff0cf227",
   "metadata": {},
   "source": [
    "****"
   ]
  },
  {
   "cell_type": "markdown",
   "id": "39b33163-c263-412b-a344-ac927a9d80d4",
   "metadata": {},
   "source": [
    "# How to name variables"
   ]
  },
  {
   "cell_type": "markdown",
   "id": "c467876e-16a4-40e1-a79b-044226969817",
   "metadata": {},
   "source": [
    "Before we go further, let's consider some variable names with the following experimental dataset:\n",
    "\n",
    "|Group|Number of Mice|Average Weight(g)|Group Id|\n",
    "|-----|--------------|---------------|--------|\n",
    "|alpha|3|17.0|CGJ28371|\n",
    "|beta|5|16.4|SJW99399|\n",
    "|gamma|6|17.8|PWS29382|\n",
    "\n",
    "Discuss with your partner what variable names would you use to describe:\n",
    "\n",
    "* Number of mice in beta group\n",
    "* Average weight of mice in gamma group\n",
    "\n",
    "Create the variables and use a `print` statement to display the values of the variables, as well as the variable `type`"
   ]
  },
  {
   "cell_type": "code",
   "execution_count": null,
   "id": "9997e9ea-c788-4c96-b66a-d3aa1c0ae5ae",
   "metadata": {},
   "outputs": [],
   "source": [
    "### Write your code here ###\n",
    "\n"
   ]
  },
  {
   "cell_type": "markdown",
   "id": "d920f6cf-ff5b-4487-9ec9-ceb7ea6044b1",
   "metadata": {},
   "source": [
    "Did your variable names work? Did you get an ideal variable type for each variable? Also, hopefully, your variable names were easy-to-read and as clear as possible. For example, would the following names work?\n",
    "\n",
    "\n",
    "* `alpha = 3` (3 what?)\n",
    "* `beta_weight = 16.4` (maybe okay, but didn't we mean average weight?)\n",
    "* `number_of_mice_in_beta_group = 5` (very descriptive but long and hard to read)\n",
    "\n",
    "In the end, you will have to decide on names that balance how explict and how easy the names are. Here are some simple rules and conventions on how to name variables (more rules in [Python style guide](https://peps.python.org/pep-0008/#naming-conventions)): \n",
    "\n",
    "1. **Names can contain letters, numbers, and underscores** but cannot start with a number nor include dash `-`.\n",
    "2. **Avoid Python's built-in names** (like `print`, `for`, `True`, etc.) since they have special meanings in Python.\n",
    "3. **Be descriptive** with your names so that it's clear what data the variable holds (not `a`, `b` or `c`).\n",
    "4. **Use lowercase letters** and underscores to separate words (`my_variable_name`).\n"
   ]
  },
  {
   "cell_type": "markdown",
   "id": "ed7d4923-1714-43da-8012-1573952d3927",
   "metadata": {},
   "source": [
    "****"
   ]
  },
  {
   "cell_type": "markdown",
   "id": "46b0c178-ca7c-467c-8111-eccebc94963a",
   "metadata": {},
   "source": [
    "# Examining strings\n",
    "\n",
    "Much of the data bioinformaticians work with come in the form of strings; a DNA sequence `ATGCGCCGTA` is a string as far as Python is concerned. \n",
    "\n",
    "Let's look at a few Python functions for working with strings. First create three new variables that represent the `Group Id` for each of the mouse groups in the table above:"
   ]
  },
  {
   "cell_type": "code",
   "execution_count": null,
   "id": "9932b001-1c27-4b70-8ad8-6a99610a0f75",
   "metadata": {},
   "outputs": [],
   "source": [
    "### Write your code here ###\n",
    "alpha_id = \"CGJ28371\"\n",
    "beta_id = \n",
    "gamma_id = "
   ]
  },
  {
   "cell_type": "markdown",
   "id": "528b426b-d39e-4338-b52d-8e9e525736e5",
   "metadata": {},
   "source": [
    "Next, let's look at `alpha_id`. To investigate the **length** of the id, we can use the function `len`!"
   ]
  },
  {
   "cell_type": "code",
   "execution_count": null,
   "id": "c722765d-af88-45b7-a5e7-d9d5bbb51662",
   "metadata": {},
   "outputs": [],
   "source": [
    "print(len(alpha_id))"
   ]
  },
  {
   "cell_type": "markdown",
   "id": "8bb7c678-725f-4739-9c5e-0f611adeb37e",
   "metadata": {},
   "source": [
    "We can also examine each character in the string of `alpha_id`. To do this, we specify which character to see by adding a notation next to the string variable. See what happens in the next cell:"
   ]
  },
  {
   "cell_type": "code",
   "execution_count": null,
   "id": "1716207a-8fea-4b40-ba9e-5bc5855d004e",
   "metadata": {},
   "outputs": [],
   "source": [
    "print(alpha_id[0])"
   ]
  },
  {
   "cell_type": "markdown",
   "id": "bf25f482-24c9-46ee-b7e7-00fd4926cf14",
   "metadata": {},
   "source": [
    "The statement above means \"print the **0th element** of `alpha_id`\"\n",
    "\n",
    "But what is the 0th element?\n",
    "\n",
    "In most computer languages, counting starts with 0 instead of 1. Therefore, breaking apart the string `CGJ28371`, here is how we could count it:\n",
    "\n",
    "|Index|0|1|2|3|4|5|6|7|\n",
    "|-----|-|-|-|-|-|-|-|-|\n",
    "|Value|C|G|J|2|8|3|7|1|\n",
    "\n",
    "In the cell below, print the last character of `beta_id`:"
   ]
  },
  {
   "cell_type": "code",
   "execution_count": null,
   "id": "412f9eb2-f132-4544-b0e7-43d53fde4278",
   "metadata": {},
   "outputs": [],
   "source": [
    "### Write your code here ###\n"
   ]
  },
  {
   "cell_type": "markdown",
   "id": "d35874d0-aa02-43db-b892-0485b9ee5b97",
   "metadata": {},
   "source": [
    "## Slicing strings\n",
    "\n",
    "Sometimes, we will want to extract more than one characters from a string. **Slicing** allows you to extract a subset of a string by specifying the start and end positions. \n",
    "\n",
    "The syntax for slicing is `string[start:end]`, where `start` is inclusive and `end` is exclusive. Run the cell below to see some examples:"
   ]
  },
  {
   "cell_type": "code",
   "execution_count": null,
   "id": "2e4dc23c-e492-4d21-9e0f-fa5e488dd4a2",
   "metadata": {},
   "outputs": [],
   "source": [
    "# Example of slicing\n",
    "my_string = \"ABCDEFGHIJKLMNOPQRSTUVWXYZ0123456789\"\n",
    "print(my_string[0])\n",
    "print(my_string[2])\n",
    "print(my_string[0:3])\n",
    "print(my_string[26:36])\n",
    "print(my_string[26:])  # prints all the characters from the 26th element\n",
    "print(my_string[:26]) # prints all the characters before the 26th element\n",
    "print(my_string[:])  # prints all the characters"
   ]
  },
  {
   "cell_type": "markdown",
   "id": "e9d1aadc-7d34-4608-ada3-27613744fdb6",
   "metadata": {},
   "source": [
    "If you leave `start` empty, Python will assume you want to slice from the beginning, while if you leave `end` empty, it will slice until the end.\\\n",
    "What do you think will happen in the following code? Make a guess before running it and discuss the output with your partner"
   ]
  },
  {
   "cell_type": "code",
   "execution_count": null,
   "id": "97274510-d0aa-41be-8e1e-0d430cfe4634",
   "metadata": {},
   "outputs": [],
   "source": [
    "print(my_string[-10:])"
   ]
  },
  {
   "cell_type": "markdown",
   "id": "2721c49c-1c94-4615-8302-2c543c161653",
   "metadata": {},
   "source": [
    "You can also specify a **step** with slicing, using `string[start:end:step]`, which can be used to skip characters or reverse a string."
   ]
  },
  {
   "cell_type": "code",
   "execution_count": null,
   "id": "73196ae3-ecc1-4138-b3d0-aa51c75e0835",
   "metadata": {},
   "outputs": [],
   "source": [
    "# Example of slicing with a step\n",
    "my_numbers = \"123456789\"\n",
    "print(my_numbers[0:9])\n",
    "print(my_numbers[0:9:2])  # prints every second character\n",
    "print(my_numbers[::3])  # prints every three character\n",
    "print(my_numbers[::-1]) # step = -1 will let you reverse the string"
   ]
  },
  {
   "cell_type": "markdown",
   "id": "843fcb45-db3e-452f-9d79-4bef7e751123",
   "metadata": {},
   "source": [
    "**Challenge**: In the `Group Id` data, the first three characters are the experimenter's intials, and the numbers are a unique ID number. Use the cell below to do and demonstrate the following:\n",
    "\n",
    "1. Create new variables that contain the initials of the experimenter for each mouse group.\n",
    "2. Print the value of these new variables.\n",
    "3. Create new variables that contain the ID of the experimenter for each mouse group.\n",
    "4. Print the value of these new variables.\n"
   ]
  },
  {
   "cell_type": "code",
   "execution_count": null,
   "id": "026f3a7e-df18-4243-9739-1fae603d2d1d",
   "metadata": {},
   "outputs": [],
   "source": [
    "### Write your code here for 1 & 2 ###\n",
    "\n"
   ]
  },
  {
   "cell_type": "code",
   "execution_count": null,
   "id": "9aa07fb9-06f3-4aee-becb-cea5ca77b2a5",
   "metadata": {},
   "outputs": [],
   "source": [
    "### Write your code here for 3 & 4 ###\n",
    "\n"
   ]
  },
  {
   "cell_type": "markdown",
   "id": "76836a89-f58f-4c1a-9e91-154109ddd186",
   "metadata": {},
   "source": [
    "****"
   ]
  },
  {
   "cell_type": "markdown",
   "id": "da5710a7-13be-4127-91bc-b06c1730d412",
   "metadata": {},
   "source": [
    "# Investigate biological data\n",
    "\n",
    "Now that we have learned how to examine strings, we are going to investigate biological sequences (DNA, RNA, or Protein) often stored in **[FASTA](https://en.wikipedia.org/wiki/FASTA_format)** files. The FASTA format is one of the most widely used file formats in biology/bioinformatics. A typical FASTA file consists of one or more sequences, each represented as follows:\n",
    "\n",
    "1. **Header Line**: Begins with a `>` character followed by the sequence identifier and optionally a description\n",
    "2. **Sequence Lines**: Follow the header line and contain the sequence data. The sequence may span multiple lines, but should not include spaces or line breaks within the sequence itself.\n",
    "\n",
    "Here are an example of a fasta file containing two DNA sequences:\n",
    "\n",
    "```\n",
    ">sequence 001\n",
    "ATTCGAGGATCGATTTCGATCGATGCTTAGCTTTAGCTTTTTTAGATCTCCCA\n",
    "\n",
    ">sequence 002\n",
    "AAGCTGACGGGGAGCTAGTCTTAGTCGTACGTTCGAT\n",
    "```\n",
    "\n",
    "**Challenge**: Write code that will do the following \n",
    "\n",
    "1. Create a variable which will hold a name of the sequence (e.g., `sequence 003`)\n",
    "2. Create a variable which will hold a sequence string (e.g., `ATCGATCGATCG`)\n",
    "3. Print the name and sequence in the proper FASTA format like above\n",
    "\n",
    "Discuss what you think you will need to do with your partner and use the cell below to complete the challenge\n",
    "\n",
    "*Tip*: You can do this in 3 lines of code by calling `print` only once instead of twice. To make a new line in the printed output, use the new line character `\\n`. Python will not print `\\n` to the screen but interpret that you mean to end one line at that location and begin a new line."
   ]
  },
  {
   "cell_type": "code",
   "execution_count": null,
   "id": "5b6d726c-8e7f-480d-8847-599b4fe76616",
   "metadata": {},
   "outputs": [],
   "source": [
    "### Write your code here ###\n",
    "\n",
    "\n"
   ]
  },
  {
   "cell_type": "markdown",
   "id": "c43d0743-55b9-4d0a-a07a-c9fb0cfec441",
   "metadata": {},
   "source": [
    "## Count and substitutions\n",
    "\n",
    "Another important strng tool is the ability to check various properties of a string. As you have already seen, the `len` fuction allows you to count the number of characters in a string."
   ]
  },
  {
   "cell_type": "code",
   "execution_count": null,
   "id": "28b0da6b-534a-4987-9fcf-d33ff5ffe9cd",
   "metadata": {},
   "outputs": [],
   "source": [
    "alphabets = 'ABCDEFGHIJKLMNOPQRSTUVWXYZ'\n",
    "print(len(alphabets))"
   ]
  },
  {
   "cell_type": "markdown",
   "id": "7b6f1433-1a28-4662-b658-adf2c07bb9ee",
   "metadata": {},
   "source": [
    "You can also count specific characters within a string using the `count()` function."
   ]
  },
  {
   "cell_type": "code",
   "execution_count": null,
   "id": "60d903bb-56ad-4f01-91aa-0ef8fe9b7eca",
   "metadata": {},
   "outputs": [],
   "source": [
    "my_string = 'ABCDABCDABCD'\n",
    "print(my_string.count('A'))"
   ]
  },
  {
   "cell_type": "markdown",
   "id": "cbfdf65f-f9ca-416a-b539-7b2fb56d9998",
   "metadata": {},
   "source": [
    "Here, we are using a **method** by calling `.count` on your string **object**. In Python, **methods** are functions that are associated with an object and can operate on data within that object. When you see `string.count()`, it means we're calling a method on a `string` object. This is a part of Python's **[object-oriented programming](https://www.geeksforgeeks.org/introduction-of-object-oriented-programming/)** features.\n",
    "\n",
    "A `string` in Python is an object, and it has several built-in methods that perform specific tasks. This is why you can use `.method()` syntax directly on string variables to manipulate them or to get information about them.\n",
    "\n",
    "Let's see what Python knows about string and all the methods for string objects by using `help` function:"
   ]
  },
  {
   "cell_type": "code",
   "execution_count": null,
   "id": "47dbeb14-01ad-48e8-bab8-c65906a4a090",
   "metadata": {},
   "outputs": [],
   "source": [
    "help(str)"
   ]
  },
  {
   "cell_type": "markdown",
   "id": "d562649e-cbea-4a78-825c-9a4f52096518",
   "metadata": {},
   "source": [
    "Wow this is a pretty long help info! But the structure of the text is pretty simple; the output begins with `class str(object)`, indicating that `str` is a **class** (blueprint for creating objects). After the description of the string class, there is a long section describing all the methods defined for the string class, including `count`. Are there any other methods you might be interested in using? \n",
    "\n",
    "Much of it might be hard (and even unnecessary) for you to read right now but it's good to know this exists! This combined with resources like ChatGPT and Stackoverflow will help you answer a lot of your questions! Looking at the documentation, you might find capitalizations functions like `upper` and `lower`. What you think will happen if you run the cell below?"
   ]
  },
  {
   "cell_type": "code",
   "execution_count": null,
   "id": "6eb9ccce-9b78-457c-902c-41c83870bba6",
   "metadata": {},
   "outputs": [],
   "source": [
    "my_uppercase_string = 'ABCDEFG'\n",
    "my_new_string = my_uppercase_string.lower()\n",
    "print(my_new_string)"
   ]
  },
  {
   "cell_type": "markdown",
   "id": "da7005fc-3788-4361-91f3-cb1e6fb79cae",
   "metadata": {},
   "source": [
    "In this example, `my_uppercase_string` is initially set to `'ABCDEFG'`. We then apply the `.lower()` method, which converts all the uppercase letters to lowercase, and assign the result to `my_new_string`. Notice how the output from the method directly becomes the value of the new variable when we print it.\n",
    "\n",
    "Can you write code that will print the uppercase version of an lowercase string? First, create a variable for a lowerase string and then apply the `upper` method. "
   ]
  },
  {
   "cell_type": "code",
   "execution_count": null,
   "id": "e0d34c02-fea7-4de8-90b0-02956628717d",
   "metadata": {},
   "outputs": [],
   "source": [
    "### Write your code here ###\n",
    "\n"
   ]
  },
  {
   "cell_type": "markdown",
   "id": "190102d4-7b19-42f1-b67c-c26edf8f943b",
   "metadata": {},
   "source": [
    "## Replace\n",
    "\n",
    "Another key method in string is `replace`, which (literally) replaces characters in string. The method works like this:\n",
    "\n",
    "```\n",
    "str.replace(old, new)\n",
    "```\n",
    "where \n",
    "\n",
    "* old: character(s) to be replaced\n",
    "* new: character(s) to replace with\n",
    "\n",
    "Let's see how it can be used!"
   ]
  },
  {
   "cell_type": "code",
   "execution_count": null,
   "id": "41063504-a416-40fc-b0f0-3f11d084820c",
   "metadata": {},
   "outputs": [],
   "source": [
    "string_1 = 'ABCEEFG'\n",
    "print(f\"original: {string_1}\\nafter replace: {string_1.replace('A', 'Z')}\")\n",
    "string_2 = 'I like to eat ?'\n",
    "print(f\"original: {string_2}\\nafter replace: {string_2.replace('?', 'spaghetti')}\")"
   ]
  },
  {
   "cell_type": "markdown",
   "id": "509f3411-2541-4111-a789-baf3b6fe9308",
   "metadata": {},
   "source": [
    "Using the `replace` method, we can easily convert a DNA sequence to an RNA sequence! In DNA, the bases are `A`, `T`, `G`, and `C`. In RNA, the base `U` replaces `T`. Thus, to transcribe DNA into RNA, simply replace all `T`'s in the DNA sequence with `U`'s:"
   ]
  },
  {
   "cell_type": "code",
   "execution_count": null,
   "id": "ae761e51-03ca-4064-8928-2ba797162c92",
   "metadata": {},
   "outputs": [],
   "source": [
    "DNA = 'AGATGGGCTTACTGATCGACCCAGTACGATCGTATTTTTCATCGT'\n",
    "RNA = DNA.replace('T','U')\n",
    "print(RNA)"
   ]
  },
  {
   "cell_type": "markdown",
   "id": "0ce90eb5-8f0c-401d-be61-2311d85a338e",
   "metadata": {},
   "source": [
    "`replace` is convenient when you want to replace all occurrences of a specified value, but if you need to replace just one character at a specific position, string slicing is often the best approach. For example, suppose we want to replace the `T` in the middle of the following DNA with a `G`:"
   ]
  },
  {
   "cell_type": "code",
   "execution_count": 6,
   "id": "1ef769ec-730e-4a99-873d-61a35714b320",
   "metadata": {},
   "outputs": [
    {
     "name": "stdout",
     "output_type": "stream",
     "text": [
      "replace: GGGAGAGGG\n",
      "string slicing: TTTAGATTT\n"
     ]
    }
   ],
   "source": [
    "DNA = 'TTTATATTT'\n",
    "print(f\"replace: {DNA.replace('T', 'G')}\")\n",
    "\n",
    "pos = 4  # the T in the middle is the 4th element (starting with 0th)\n",
    "new_DNA = DNA[:pos] + 'G' + DNA[pos+1:]\n",
    "print(f\"string slicing: {new_DNA}\")"
   ]
  },
  {
   "cell_type": "markdown",
   "id": "3eaf14f2-f65a-4424-b506-75716abeacc7",
   "metadata": {},
   "source": [
    "Here, `DNA[:pos]` slices everything before the `pos` (`TTTA`), `G` is our new nucleotide at the `pos`, and `DNA[pos+1:]` slices everything from `pos+1` (`ATTT`).\n",
    "\n",
    "Now try transcribing the following DNA to RNA, and mutate one of the `G`s to `U`:"
   ]
  },
  {
   "cell_type": "code",
   "execution_count": null,
   "id": "38c4c2a3-6aff-4085-b4c2-058c5fb33891",
   "metadata": {},
   "outputs": [],
   "source": [
    "### Write your code here ###\n",
    "DNA = 'ATGAATCGT'\n",
    "RNA = \n",
    "mutated_RNA = \n",
    "\n",
    "print(mutated_RNA)"
   ]
  },
  {
   "cell_type": "markdown",
   "id": "62504b86-3742-4415-9768-ec2d626d7fd2",
   "metadata": {},
   "source": [
    "Note: You might wonder why we can't simply modify a character using an index like `str[i] = 'U'`. This isn't allowed because strings in Python are **immutable**, meaning their content cannot be changed directly. Instead, we use string slicing to create a *new* string with the desired change.\n"
   ]
  },
  {
   "cell_type": "markdown",
   "id": "8097f6eb-994a-458b-8050-5c0c8c737c74",
   "metadata": {},
   "source": [
    "****"
   ]
  },
  {
   "cell_type": "markdown",
   "id": "e24201e6-d735-44ff-8e32-74fafd605613",
   "metadata": {},
   "source": [
    "# Examine the HIV genome\n",
    "\n",
    "Human Immunodeficiency Virus (HIV) is a retrovirus that attacks the immune system, specifically targeting CD4 cells, which play a critical role in immune response. Over time, this can lead to Acquired Immunodeficiency Syndrome (AIDS), which is characterized by the immune system's failure to protect against infections and certain cancers.\n",
    "\n",
    "The [HIV genome](https://www.hiv.lanl.gov/components/sequence/HIV/asearch/query_one.comp?se_id=K03455) is relatively small and complex, consisting of two identical strands of RNA enclosed within the virus particle. Each RNA strand contains nine genes encoded by just over 9,000 nucleotides. \n",
    "\n",
    "In our exercise, we will use Python string slicing and manipulation techniques to extract specific genes from a simulated segment of the HIV RNA sequence, providing insight into how computational tools can assist in understanding and researching genetics.\n"
   ]
  },
  {
   "cell_type": "code",
   "execution_count": null,
   "id": "938c585b-b88d-4199-aa60-f9a71974650e",
   "metadata": {},
   "outputs": [],
   "source": [
    "# Human immunodeficiency virus type 1 (HXB2), complete genome;\n",
    "# ACCESSION   K03455\n",
    "# VERSION     K03455.1 GI:1906382\n",
    "\n",
    "hiv_genome = 'tggaagggctaattcactcccaacgaagacaagatatccttgatctgtggatctaccacacacaaggctacttccctgattagcagaactacacaccagggccagggatcagatatccactgacctttggatggtgctacaagctagtaccagttgagccagagaagttagaagaagccaacaaaggagagaacaccagcttgttacaccctgtgagcctgcatggaatggatgacccggagagagaagtgttagagtggaggtttgacagccgcctagcatttcatcacatggcccgagagctgcatccggagtacttcaagaactgctgacatcgagcttgctacaagggactttccgctggggactttccagggaggcgtggcctgggcgggactggggagtggcgagccctcagatcctgcatataagcagctgctttttgcctgtactgggtctctctggttagaccagatctgagcctgggagctctctggctaactagggaacccactgcttaagcctcaataaagcttgccttgagtgcttcaagtagtgtgtgcccgtctgttgtgtgactctggtaactagagatccctcagacccttttagtcagtgtggaaaatctctagcagtggcgcccgaacagggacctgaaagcgaaagggaaaccagaggagctctctcgacgcaggactcggcttgctgaagcgcgcacggcaagaggcgaggggcggcgactggtgagtacgccaaaaattttgactagcggaggctagaaggagagagatgggtgcgagagcgtcagtattaagcgggggagaattagatcgatgggaaaaaattcggttaaggccagggggaaagaaaaaatataaattaaaacatatagtatgggcaagcagggagctagaacgattcgcagttaatcctggcctgttagaaacatcagaaggctgtagacaaatactgggacagctacaaccatcccttcagacaggatcagaagaacttagatcattatataatacagtagcaaccctctattgtgtgcatcaaaggatagagataaaagacaccaaggaagctttagacaagatagaggaagagcaaaacaaaagtaagaaaaaagcacagcaagcagcagctgacacaggacacagcaatcaggtcagccaaaattaccctatagtgcagaacatccaggggcaaatggtacatcaggccatatcacctagaactttaaatgcatgggtaaaagtagtagaagagaaggctttcagcccagaagtgatacccatgttttcagcattatcagaaggagccaccccacaagatttaaacaccatgctaaacacagtggggggacatcaagcagccatgcaaatgttaaaagagaccatcaatgaggaagctgcagaatgggatagagtgcatccagtgcatgcagggcctattgcaccaggccagatgagagaaccaaggggaagtgacatagcaggaactactagtacccttcaggaacaaataggatggatgacaaataatccacctatcccagtaggagaaatttataaaagatggataatcctgggattaaataaaatagtaagaatgtatagccctaccagcattctggacataagacaaggaccaaaggaaccctttagagactatgtagaccggttctataaaactctaagagccgagcaagcttcacaggaggtaaaaaattggatgacagaaaccttgttggtccaaaatgcgaacccagattgtaagactattttaaaagcattgggaccagcggctacactagaagaaatgatgacagcatgtcagggagtaggaggacccggccataaggcaagagttttggctgaagcaatgagccaagtaacaaattcagctaccataatgatgcagagaggcaattttaggaaccaaagaaagattgttaagtgtttcaattgtggcaaagaagggcacacagccagaaattgcagggcccctaggaaaaagggctgttggaaatgtggaaaggaaggacaccaaatgaaagattgtactgagagacaggctaattttttagggaagatctggccttcctacaagggaaggccagggaattttcttcagagcagaccagagccaacagccccaccagaagagagcttcaggtctggggtagagacaacaactccccctcagaagcaggagccgatagacaaggaactgtatcctttaacttccctcaggtcactctttggcaacgacccctcgtcacaataaagataggggggcaactaaaggaagctctattagatacaggagcagatgatacagtattagaagaaatgagtttgccaggaagatggaaaccaaaaatgatagggggaattggaggttttatcaaagtaagacagtatgatcagatactcatagaaatctgtggacataaagctataggtacagtattagtaggacctacacctgtcaacataattggaagaaatctgttgactcagattggttgcactttaaattttcccattagccctattgagactgtaccagtaaaattaaagccaggaatggatggcccaaaagttaaacaatggccattgacagaagaaaaaataaaagcattagtagaaatttgtacagagatggaaaaggaagggaaaatttcaaaaattgggcctgaaaatccatacaatactccagtatttgccataaagaaaaaagacagtactaaatggagaaaattagtagatttcagagaacttaataagagaactcaagacttctgggaagttcaattaggaataccacatcccgcagggttaaaaaagaaaaaatcagtaacagtactggatgtgggtgatgcatatttttcagttcccttagatgaagacttcaggaagtatactgcatttaccatacctagtataaacaatgagacaccagggattagatatcagtacaatgtgcttccacagggatggaaaggatcaccagcaatattccaaagtagcatgacaaaaatcttagagccttttagaaaacaaaatccagacatagttatctatcaatacatggatgatttgtatgtaggatctgacttagaaatagggcagcatagaacaaaaatagaggagctgagacaacatctgttgaggtggggacttaccacaccagacaaaaaacatcagaaagaacctccattcctttggatgggttatgaactccatcctgataaatggacagtacagcctatagtgctgccagaaaaagacagctggactgtcaatgacatacagaagttagtggggaaattgaattgggcaagtcagatttacccagggattaaagtaaggcaattatgtaaactccttagaggaaccaaagcactaacagaagtaataccactaacagaagaagcagagctagaactggcagaaaacagagagattctaaaagaaccagtacatggagtgtattatgacccatcaaaagacttaatagcagaaatacagaagcaggggcaaggccaatggacatatcaaatttatcaagagccatttaaaaatctgaaaacaggaaaatatgcaagaatgaggggtgcccacactaatgatgtaaaacaattaacagaggcagtgcaaaaaataaccacagaaagcatagtaatatggggaaagactcctaaatttaaactgcccatacaaaaggaaacatgggaaacatggtggacagagtattggcaagccacctggattcctgagtgggagtttgttaatacccctcccttagtgaaattatggtaccagttagagaaagaacccatagtaggagcagaaaccttctatgtagatggggcagctaacagggagactaaattaggaaaagcaggatatgttactaatagaggaagacaaaaagttgtcaccctaactgacacaacaaatcagaagactgagttacaagcaatttatctagctttgcaggattcgggattagaagtaaacatagtaacagactcacaatatgcattaggaatcattcaagcacaaccagatcaaagtgaatcagagttagtcaatcaaataatagagcagttaataaaaaaggaaaaggtctatctggcatgggtaccagcacacaaaggaattggaggaaatgaacaagtagataaattagtcagtgctggaatcaggaaagtactatttttagatggaatagataaggcccaagatgaacatgagaaatatcacagtaattggagagcaatggctagtgattttaacctgccacctgtagtagcaaaagaaatagtagccagctgtgataaatgtcagctaaaaggagaagccatgcatggacaagtagactgtagtccaggaatatggcaactagattgtacacatttagaaggaaaagttatcctggtagcagttcatgtagccagtggatatatagaagcagaagttattccagcagaaacagggcaggaaacagcatattttcttttaaaattagcaggaagatggccagtaaaaacaatacatactgacaatggcagcaatttcaccggtgctacggttagggccgcctgttggtgggcgggaatcaagcaggaatttggaattccctacaatccccaaagtcaaggagtagtagaatctatgaataaagaattaaagaaaattataggacaggtaagagatcaggctgaacatcttaagacagcagtacaaatggcagtattcatccacaattttaaaagaaaaggggggattggggggtacagtgcaggggaaagaatagtagacataatagcaacagacatacaaactaaagaattacaaaaacaaattacaaaaattcaaaattttcgggtttattacagggacagcagaaatccactttggaaaggaccagcaaagctcctctggaaaggtgaaggggcagtagtaatacaagataatagtgacataaaagtagtgccaagaagaaaagcaaagatcattagggattatggaaaacagatggcaggtgatgattgtgtggcaagtagacaggatgaggattagaacatggaaaagtttagtaaaacaccatatgtatgtttcagggaaagctaggggatggttttatagacatcactatgaaagccctcatccaagaataagttcagaagtacacatcccactaggggatgctagattggtaataacaacatattggggtctgcatacaggagaaagagactggcatttgggtcagggagtctccatagaatggaggaaaaagagatatagcacacaagtagaccctgaactagcagaccaactaattcatctgtattactttgactgtttttcagactctgctataagaaaggccttattaggacacatagttagccctaggtgtgaatatcaagcaggacataacaaggtaggatctctacaatacttggcactagcagcattaataacaccaaaaaagataaagccacctttgcctagtgttacgaaactgacagaggatagatggaacaagccccagaagaccaagggccacagagggagccacacaatgaatggacactagagcttttagaggagcttaagaatgaagctgttagacattttcctaggatttggctccatggcttagggcaacatatctatgaaacttatggggatacttgggcaggagtggaagccataataagaattctgcaacaactgctgtttatccattttcagaattgggtgtcgacatagcagaataggcgttactcgacagaggagagcaagaaatggagccagtagatcctagactagagccctggaagcatccaggaagtcagcctaaaactgcttgtaccaattgctattgtaaaaagtgttgctttcattgccaagtttgtttcataacaaaagccttaggcatctcctatggcaggaagaagcggagacagcgacgaagagctcatcagaacagtcagactcatcaagcttctctatcaaagcagtaagtagtacatgtaacgcaacctataccaatagtagcaatagtagcattagtagtagcaataataatagcaatagttgtgtggtccatagtaatcatagaatataggaaaatattaagacaaagaaaaatagacaggttaattgatagactaatagaaagagcagaagacagtggcaatgagagtgaaggagaaatatcagcacttgtggagatgggggtggagatggggcaccatgctccttgggatgttgatgatctgtagtgctacagaaaaattgtgggtcacagtctattatggggtacctgtgtggaaggaagcaaccaccactctattttgtgcatcagatgctaaagcatatgatacagaggtacataatgtttgggccacacatgcctgtgtacccacagaccccaacccacaagaagtagtattggtaaatgtgacagaaaattttaacatgtggaaaaatgacatggtagaacagatgcatgaggatataatcagtttatgggatcaaagcctaaagccatgtgtaaaattaaccccactctgtgttagtttaaagtgcactgatttgaagaatgatactaataccaatagtagtagcgggagaatgataatggagaaaggagagataaaaaactgctctttcaatatcagcacaagcataagaggtaaggtgcagaaagaatatgcatttttttataaacttgatataataccaatagataatgatactaccagctataagttgacaagttgtaacacctcagtcattacacaggcctgtccaaaggtatcctttgagccaattcccatacattattgtgccccggctggttttgcgattctaaaatgtaataataagacgttcaatggaacaggaccatgtacaaatgtcagcacagtacaatgtacacatggaattaggccagtagtatcaactcaactgctgttaaatggcagtctagcagaagaagaggtagtaattagatctgtcaatttcacggacaatgctaaaaccataatagtacagctgaacacatctgtagaaattaattgtacaagacccaacaacaatacaagaaaaagaatccgtatccagagaggaccagggagagcatttgttacaataggaaaaataggaaatatgagacaagcacattgtaacattagtagagcaaaatggaataacactttaaaacagatagctagcaaattaagagaacaatttggaaataataaaacaataatctttaagcaatcctcaggaggggacccagaaattgtaacgcacagttttaattgtggaggggaatttttctactgtaattcaacacaactgtttaatagtacttggtttaatagtacttggagtactgaagggtcaaataacactgaaggaagtgacacaatcaccctcccatgcagaataaaacaaattataaacatgtggcagaaagtaggaaaagcaatgtatgcccctcccatcagtggacaaattagatgttcatcaaatattacagggctgctattaacaagagatggtggtaatagcaacaatgagtccgagatcttcagacctggaggaggagatatgagggacaattggagaagtgaattatataaatataaagtagtaaaaattgaaccattaggagtagcacccaccaaggcaaagagaagagtggtgcagagagaaaaaagagcagtgggaataggagctttgttccttgggttcttgggagcagcaggaagcactatgggcgcagcctcaatgacgctgacggtacaggccagacaattattgtctggtatagtgcagcagcagaacaatttgctgagggctattgaggcgcaacagcatctgttgcaactcacagtctggggcatcaagcagctccaggcaagaatcctggctgtggaaagatacctaaaggatcaacagctcctggggatttggggttgctctggaaaactcatttgcaccactgctgtgccttggaatgctagttggagtaataaatctctggaacagatttggaatcacacgacctggatggagtgggacagagaaattaacaattacacaagcttaatacactccttaattgaagaatcgcaaaaccagcaagaaaagaatgaacaagaattattggaattagataaatgggcaagtttgtggaattggtttaacataacaaattggctgtggtatataaaattattcataatgatagtaggaggcttggtaggtttaagaatagtttttgctgtactttctatagtgaatagagttaggcagggatattcaccattatcgtttcagacccacctcccaaccccgaggggacccgacaggcccgaaggaatagaagaagaaggtggagagagagacagagacagatccattcgattagtgaacggatccttggcacttatctgggacgatctgcggagcctgtgcctcttcagctaccaccgcttgagagacttactcttgattgtaacgaggattgtggaacttctgggacgcagggggtgggaagccctcaaatattggtggaatctcctacagtattggagtcaggaactaaagaatagtgctgttagcttgctcaatgccacagccatagcagtagctgaggggacagatagggttatagaagtagtacaaggagcttgtagagctattcgccacatacctagaagaataagacagggcttggaaaggattttgctataagatgggtggcaagtggtcaaaaagtagtgtgattggatggcctactgtaagggaaagaatgagacgagctgagccagcagcagatagggtgggagcagcatctcgagacctggaaaaacatggagcaatcacaagtagcaatacagcagctaccaatgctgcttgtgcctggctagaagcacaagaggaggaggaggtgggttttccagtcacacctcaggtacctttaagaccaatgacttacaaggcagctgtagatcttagccactttttaaaagaaaaggggggactggaagggctaattcactcccaaagaagacaagatatccttgatctgtggatctaccacacacaaggctacttccctgattagcagaactacacaccagggccaggggtcagatatccactgacctttggatggtgctacaagctagtaccagttgagccagataagatagaagaggccaataaaggagagaacaccagcttgttacaccctgtgagcctgcatgggatggatgacccggagagagaagtgttagagtggaggtttgacagccgcctagcatttcatcacgtggcccgagagctgcatccggagtacttcaagaactgctgacatcgagcttgctacaagggactttccgctggggactttccagggaggcgtggcctgggcgggactggggagtggcgagccctcagatcctgcatataagcagctgctttttgcctgtactgggtctctctggttagaccagatctgagcctgggagctctctggctaactagggaacccactgcttaagcctcaataaagcttgccttgagtgcttcaagtagtgtgtgcccgtctgttgtgtgactctggtaactagagatccctcagacccttttagtcagtgtggaaaatctctagca'"
   ]
  },
  {
   "cell_type": "markdown",
   "id": "03638e5a-cf00-4f60-8ac1-1c04491cd709",
   "metadata": {},
   "source": [
    "The following diagram shows genes in the HIV genome, with the first and last position of nucleotides in each gene. Given what we have learned and the info below, complete the tasks in the following code cells! (More info on [HIV Genome Landmarks](http://www.hiv.lanl.gov/content/sequence/HIV/MAP/landmark.html))\n",
    "\n",
    "![HIV Genome Landmarks](img/hxb2genome.gif)"
   ]
  },
  {
   "cell_type": "markdown",
   "id": "40712798-28e1-47dc-aa5b-3aaa22ef3525",
   "metadata": {},
   "source": [
    "1. Check and print the length of the HIV genome"
   ]
  },
  {
   "cell_type": "code",
   "execution_count": null,
   "id": "444f73b2-9266-461f-a16b-63a0b0171d17",
   "metadata": {},
   "outputs": [],
   "source": [
    "### Write your code here ###\n",
    "\n"
   ]
  },
  {
   "cell_type": "markdown",
   "id": "901a6871-6509-4b8a-9421-57cfbb007a7e",
   "metadata": {},
   "source": [
    "2. Create variables for the following HIV genes and print them out (one at a time)\n",
    "\n",
    "<details>\n",
    "  <summary>Hint 1</summary>\n",
    "  \n",
    "   *hint 1*: Use `hiv_genome[start:end]`\n",
    "</details>\n",
    "\n",
    "\n",
    "<details>\n",
    "  <summary>Hint 2</summary>\n",
    "  \n",
    "   *hint 2*: Python's counting starts with zero but counting in the diagram starts with one\n",
    "</details>\n",
    "\n",
    "<details>\n",
    "  <summary>Hint 3</summary>  \n",
    "    \n",
    "   *hint 3*: When you print them out, all the genes should be starting with 'ATG', which encode the **start codon** 'M' (Methionine) when trasnlated to a protein (but excpet `pol` gene it's unique!). If there is a rule at the start of a gene, should there be a rule at the end too?\n",
    "</details>"
   ]
  },
  {
   "cell_type": "code",
   "execution_count": null,
   "id": "27fda0c2-5957-45a0-bdae-1d6cdd2ee9b2",
   "metadata": {},
   "outputs": [],
   "source": [
    "### Write your code here ###\n",
    "# gag\n",
    "# pol\n",
    "# vif\n",
    "# vpr\n",
    "# env\n"
   ]
  },
  {
   "cell_type": "markdown",
   "id": "8c9f10e3-f4c3-434e-a286-495d873864a1",
   "metadata": {},
   "source": [
    "3. Generate the RNA sequence from the DNA sequence for each of the genes you have isolated above, store them in variables, and check by printing them out"
   ]
  },
  {
   "cell_type": "code",
   "execution_count": null,
   "id": "43ef429c-87b4-402c-956f-18aaa141ae31",
   "metadata": {},
   "outputs": [],
   "source": [
    "### Write your code here ###\n",
    "\n",
    "\n",
    "\n",
    "\n",
    "\n"
   ]
  },
  {
   "cell_type": "markdown",
   "id": "92d1369f-35cc-4314-8636-d7bb80f1b216",
   "metadata": {},
   "source": [
    "4. For each gene, count the number of each nuclotide in that gene (# of `A`s, # of `U`s, # of `G`s, # of `C`s) and store the values in variables (always good to check by printing them out!)"
   ]
  },
  {
   "cell_type": "code",
   "execution_count": null,
   "id": "bbd18b47-42f3-4fb1-ad6a-ab54c1a8d021",
   "metadata": {},
   "outputs": [],
   "source": [
    "### Write your code here ###\n",
    "\n",
    "\n",
    "\n",
    "\n",
    "\n"
   ]
  },
  {
   "cell_type": "markdown",
   "id": "c3093147-bae7-415c-944a-5ed3e17e26d6",
   "metadata": {},
   "source": [
    "5. For each gene, calculate the **GC content** (%). GC content is the ratio of `G`s and `C`s in the gene calculated by:\n",
    "```\n",
    "GC content = number of Gs + number of Cs / total number of nucleotides in a given gene\n",
    "```"
   ]
  },
  {
   "cell_type": "code",
   "execution_count": null,
   "id": "38961218-d99a-47ca-9570-e5e8c23555c5",
   "metadata": {},
   "outputs": [],
   "source": [
    "### Write your code here ###\n",
    "\n",
    "\n",
    "\n",
    "\n",
    "\n"
   ]
  }
 ],
 "metadata": {
  "kernelspec": {
   "display_name": "Python 3 (ipykernel)",
   "language": "python",
   "name": "python3"
  },
  "language_info": {
   "codemirror_mode": {
    "name": "ipython",
    "version": 3
   },
   "file_extension": ".py",
   "mimetype": "text/x-python",
   "name": "python",
   "nbconvert_exporter": "python",
   "pygments_lexer": "ipython3",
   "version": "3.11.5"
  }
 },
 "nbformat": 4,
 "nbformat_minor": 5
}
