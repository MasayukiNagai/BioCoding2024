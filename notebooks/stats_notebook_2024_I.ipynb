{
 "cells": [
  {
   "cell_type": "markdown",
   "metadata": {},
   "source": [
    "## Making Observations\n",
    "\n",
    "In this notebook we will begin with some basic observations or data that we can collect to answer our questions about the M&Ms. As it turns out, our observations are two dimensional. What does that mean?"
   ]
  },
  {
   "cell_type": "markdown",
   "metadata": {},
   "source": [
    "## Discussion\n",
    "In the lecture portion of this lesson, we need to address the questions:\n",
    "\n",
    "- **What is a qualitative observation?**\n",
    "- **What is a quantitative observation?**\n",
    "\n",
    "Depending on your answers, would you say that:\n",
    "Science should be more **qualitative** or **quantitative**?"
   ]
  },
  {
   "cell_type": "markdown",
   "metadata": {},
   "source": [
    "## Statistics\n",
    "\n",
    "[Statistics](https://en.wikipedia.org/wiki/Statistics) is (among other things) a way of using mathematical tools to help us answer quantitative questions - or at least describe quantitatively what we are observing. Just like we use python as the syntax for doing programming (making computer algorithms do specific tasks), Statistics is the syntax for doing science. There are several kinds of questions that Statistics often tries to answer:\n",
    "1. How can we understand a characteristic of a particular group?\n",
    "2. What is the best way to describe these \"characteristics\"?\n",
    "3. Can we compare the characteristics between two groups?"
   ]
  },
  {
   "cell_type": "markdown",
   "metadata": {},
   "source": [
    "### Principle 1 - Population vs Samples\n",
    "First, we need to define a group that we want to study. In Statistics, we often call it a \"population\". All the questions first begin by definiing a population. Let us say we are studying the running speed of Rabbits. Here, our population is \"All Rabbits\". As you may imagine, studying the running speed of every rabbit is next to impossible. \n",
    "\n",
    "How do we try to get an estimate of how fast are rabbits? \n",
    "\n",
    "We take a \"sample\" of the population! We go to the woods and observe 5 rabbits running at maximum speed. This would be our sample. We hope that the speeds with which the rabbits in our sample ran are representative of the speeds of rabbits in general (such a good sample is called a \"representative\" sample). You can also take a bad sample. For example, if I observe only 2 rabbits but both had injured legs, their running speeds would be quite low, however, they are not representative of the whole population! (Later we will make quantitative claims about all of these)\n",
    "\n",
    "**Q**: What is the population in the following cases and is the sample representative? How would you change the sample to make it more representative?\n",
    "1. I want to study the blood pressure in humans. I collect the blood pressure of 1000 men in NY.\n",
    "2. I want to study the effect of food on athletes. I study various diets with 1000 swimmers\n",
    "3. (*tricky*) I want to study if the drug has any effect in patients with hypertension. I go to all the hospitals in the US and study all the admitted patients with hypertension.\n"
   ]
  },
  {
   "cell_type": "markdown",
   "metadata": {},
   "source": [
    "### Principle 2 - Descriptions\n",
    "We have been talking a lot about sampling and comparing it to the population, but we need some quantitative way to make this comparison. Let us stick to a hypothetical dataset of rabbit running speeds:\n",
    "\n",
    "|Running Speed (m/s)|\n",
    "|-----------|\n",
    "|10|\n",
    "|11|\n",
    "|13|\n",
    "|11|\n",
    "|14|\n",
    "|7|\n",
    "|11|\n",
    "\n",
    "How do we describe this sample? One idea is the idea of an average. An average tries to tell us some measure of the central value in our data. Some rabbits are fast (above the central value), some rabbits are slow (below the central value). But a good descriptor would be the central value, the average rabbit speed. In statistics, we call this the **mean** of the sample.\n",
    "\n",
    "There are other measures of the central value (called the \"central tendency\"):\n",
    "1. **Mean**: Most popular\n",
    "2. **Median**: If we arrange the data in increasing order, what is the middle value? This is useful in some cases. For example, we want to know how many students study in a high school. We sample 10 high schools. The mean can be something like 100.5 students. but fractional students do not make sense. So we may choose to use a median in this case which will avoid the problem. There are other reasons to use *Median* over *Mean*. **Can you think of any?**\n",
    "3. **Mode**: The value that is repeated the most number of times in a dataset. This is especially useful when the data is categorical. Like what is the favorite color of high-school students. We cannot average across red blue and green or even arange them in increasing order to take their median. We can report the *mode*, which is the color that came up the most frequently!\n",
    "\n",
    "In our example, now we have a way of describing different values. We want to try to estimate the population mean by using our sample mean. But if we sample only slow rabbits, our sample mean will be different from (or a bad estimate of) the population mean!\n"
   ]
  },
  {
   "cell_type": "markdown",
   "metadata": {},
   "source": [
    "**Python time!**\n",
    "Let us load the rabbit data into a python list and calculate the different measures of central tendency."
   ]
  },
  {
   "cell_type": "code",
   "execution_count": 6,
   "metadata": {},
   "outputs": [],
   "source": [
    "rabbit_speed = [10, 11, 13, 11, 14, 7, 11]"
   ]
  },
  {
   "cell_type": "markdown",
   "metadata": {},
   "source": [
    "Alright! Now we calculate how many rabbits we sampled (useful later). How do we calculate the average or the mean? We add all the values and divide by the number of values. Think on why this would give an average value. If you have two values, A and B. If you take their average using this procedure, you get (A + B)/2, which will be a value midway between A and B! \n",
    "\n",
    "We can also calculate the median according to its definition."
   ]
  },
  {
   "cell_type": "code",
   "execution_count": 7,
   "metadata": {},
   "outputs": [
    {
     "name": "stdout",
     "output_type": "stream",
     "text": [
      "I sampled these many rabbits: 7\n",
      "The Mean of my data is: 11.0\n"
     ]
    }
   ],
   "source": [
    "# how many rabbits did we sample\n",
    "number_of_rabbits = len(rabbit_speed)\n",
    "print(\"I sampled these many rabbits: \" + str(number_of_rabbits))  # if you add two strings, you get a joint string!\n",
    "\n",
    "# calculating the mean\n",
    "total = sum(rabbit_speed)\n",
    "mean = total / number_of_rabbits\n",
    "print(\"The Mean of my data is: \" + str(mean))"
   ]
  },
  {
   "cell_type": "code",
   "execution_count": 8,
   "metadata": {},
   "outputs": [],
   "source": [
    "# It is good to confirm that sum is working the way we expect it to\n",
    "# we can manually calculate the sum of the list by individually going over it\n",
    "# to get one element from a list we can index it from 0, 1, 2 ...\n",
    "one_element = rabbit_speed[0]\n",
    "# now we can write a for loop to add all the elements together!\n",
    "# CHALLENGE: Do the for loop and compare to the mean we got above"
   ]
  },
  {
   "cell_type": "code",
   "execution_count": 9,
   "metadata": {},
   "outputs": [
    {
     "name": "stdout",
     "output_type": "stream",
     "text": [
      "Median is: 11\n"
     ]
    }
   ],
   "source": [
    "# Calculating median\n",
    "rabbit_speed_increasing_order = sorted(rabbit_speed)\n",
    "# now we need the center value\n",
    "median = rabbit_speed_increasing_order[number_of_rabbits // 2]\n",
    "print(\"Median is: \" + str(median))"
   ]
  },
  {
   "cell_type": "markdown",
   "metadata": {},
   "source": [
    "In a real situation, we would just use a library called `numpy` to calculate the mean. It also has functions of calculating the mode and the median. **Can you calculate those?**"
   ]
  },
  {
   "cell_type": "code",
   "execution_count": 10,
   "metadata": {},
   "outputs": [],
   "source": [
    "import numpy as np\n",
    "mean = np.mean(rabbit_speed)"
   ]
  },
  {
   "cell_type": "markdown",
   "metadata": {
    "solution2": "hidden",
    "solution2_first": true
   },
   "source": [
    "### Principle 3 - Comparisons\n",
    "Now, we come to the main core of statistics. It is sometimes boring to just study a single group. How about we make comparisons between groups! We can ask the age-old question, is a rabbit (or a hare) faster than a tortoise? First, we need to sample data from two groups. We already sampled the rabbit data. Here is some tortoise running speed data\n",
    "\n",
    "|Running Speed (m/s)|\n",
    "|-----------|\n",
    "|2|\n",
    "|9|\n",
    "|4|\n",
    "|2|\n",
    "|2|\n",
    "|4|\n",
    "|3|\n",
    "\n",
    "Are rabbits faster than tortoises? You can see that it depends on the specific rabbit and the tortoise (the fastest tortoise can beat the slowest rabbit). But we can ask if the mean speed of the rabbits is higher than tortoise.\n",
    "\n",
    "**Q**: Use python to figure this question out.\n",
    "\n",
    "\n"
   ]
  },
  {
   "cell_type": "code",
   "execution_count": null,
   "metadata": {},
   "outputs": [],
   "source": []
  },
  {
   "cell_type": "markdown",
   "metadata": {},
   "source": [
    "\n",
    "### CAUTION!\n",
    "The problem of using only small number of statitical descriptors to describe a population/sample is that two samples may be very different even if their means are the same. In such a scenario, we will be falsely thinking that the two samples are same if they have the same mean but in fact, they are very different! It is very important to look at the \"distribution\" of the data/sample and not just the measures of central tendency.\n",
    "\n",
    "Here are some cautionary tales (for now, Variance and Correlation are other statistics used to describe a data or relation between two different variables in a data. They hint at different properties, for example variance tells us how wide is the data spread around the mean just like mean tells us about the central value in our data)\n",
    "\n",
    "Take for example the following situation, where a two dimensional observation (x and y) are plotted on a graph:\n",
    "\n",
    "|Statistical description|Sample X1|Sample X2|Sample X3|Sample X4|\n",
    "|-----------------------|---------|---------|---------|---------|\n",
    "|Mean (x-coordinate)|9|9|9|9|\n",
    "|Mean (y-coordinate)|7.5|7.5|7.5|7.5|\n",
    "|Variance of X|11|11|11|11|\n",
    "|Variance of Y|4.122|4.122|4.122|4.122|\n",
    "|Correlation of X and Y|0.816|0.816|0.816|0.816|\n",
    "|Linear regression|y = 3.00 + 0.500x|y = 3.00 + 0.500x|y = 3.00 + 0.500x|y = 3.00 + 0.500x|\n",
    "\n",
    "Same or different?"
   ]
  },
  {
   "cell_type": "markdown",
   "metadata": {
    "solution2": "hidden",
    "solution2_first": true
   },
   "source": [
    "An in another humorous example:"
   ]
  },
  {
   "cell_type": "markdown",
   "metadata": {
    "solution2": "hidden"
   },
   "source": [
    "![](img/DataSaurus.gif)"
   ]
  },
  {
   "cell_type": "markdown",
   "metadata": {
    "solution2": "hidden"
   },
   "source": [
    "![](img/anscombes_quartet_3.png)"
   ]
  },
  {
   "cell_type": "markdown",
   "metadata": {},
   "source": [
    "## Python Challenge - Plotting Data\n"
   ]
  },
  {
   "cell_type": "markdown",
   "metadata": {},
   "source": [
    "In our example, we are going to look at samples of M&M candies and ask if different tubes of M&Ms are the same or different from each other. How can we use statistical tools to give us answers, and minimize the chance we will be fooled by the results. We will get to some answers, but first, let's talk about the samples we have in class. To complete this exercise you will need data from all of your classmates. Assume that we examine tubes 1-8. How would you complete the following:\n",
    "\n",
    "Given Tube 0:\n",
    "\n",
    "|Sample name|Blue|Brown|Green|Orange|Red|Yellow|\n",
    "|-----------|----|-----|-----|------|---|------|\n",
    "|Tube 0|22|13|21|18|8|17|"
   ]
  },
  {
   "cell_type": "code",
   "execution_count": 11,
   "metadata": {},
   "outputs": [],
   "source": [
    "# We will assume that each list has the numbers in alphabetical order (same as the table above)\n",
    "# Make these variables for all the tubes based on the data you collect\n",
    "\n",
    "Tube_0 = [22,13,21,18,8,17]\n",
    "\n"
   ]
  },
  {
   "cell_type": "code",
   "execution_count": 12,
   "metadata": {},
   "outputs": [],
   "source": [
    "# How would you calculate the mean for the Blue M&Ms if we had 3 tubes to count? \n",
    "# Hint: You can use add the values corresponding to the blue M&Ms (tube_x[0]) from all tubes and divide by the number of tubes"
   ]
  },
  {
   "cell_type": "markdown",
   "metadata": {},
   "source": [
    "Let us get to plotting! We will use a library called `matplotlib` (similar to the `numpy`) library used above.  We can plot a bar plot to indicate how many of the different colored M&Ms were present in a tube."
   ]
  },
  {
   "cell_type": "code",
   "execution_count": 14,
   "metadata": {},
   "outputs": [],
   "source": [
    "import numpy as np\n",
    "import matplotlib.pyplot as plt\n"
   ]
  },
  {
   "cell_type": "markdown",
   "metadata": {},
   "source": [
    "To create a bar plot, we first need the labels (\"blue\", ...), the positions of the bars on the x-axis (use `np.arange` which returns a list of numbers starting from 0) and the actual heights of the bars (stored in our `Tube_x` lists). Once we have all this, we use the `plt.bar` function to create the bar plot!"
   ]
  },
  {
   "cell_type": "code",
   "execution_count": 16,
   "metadata": {},
   "outputs": [
    {
     "data": {
      "image/png": "[encoded data removed]",
      "text/plain": [
       "<Figure size 640x480 with 1 Axes>"
      ]
     },
     "metadata": {},
     "output_type": "display_data"
    }
   ],
   "source": [
    "# let us start with Tube 0\n",
    "number_of_colors = len(Tube_0)\n",
    "positions_of_the_bars = np.arange(number_of_colors)  # [0, 1, ...]\n",
    "colors = ['blue',\n",
    "          'brown',\n",
    "          'green',\n",
    "          'orange',\n",
    "          'red',\n",
    "          'yellow']\n",
    "plot_1 = plt.bar(positions_of_the_bars,  # location of the bars on the x axis\n",
    "              Tube_0,  # height of the bars\n",
    "              color=colors,\n",
    "              tick_label=colors,  # just tells python to change the name of the bars from numbers to the actual colors\n",
    "              align='center')\n",
    "plt.show(plot_1)\n",
    " "
   ]
  },
  {
   "cell_type": "markdown",
   "metadata": {},
   "source": [
    "**Q**: make a plot of all the different tubes in the class! You already have the code of adding the color-specific value from all the tubes and calculating the mean. You can either plot the total number of different colors or the mean number of a particular color in a tube. You can change the label of the x-axis and the y-axis using the functions (`plt.xlabel`) and (`plt.ylabel`). You can also change the title of the plot using `plt.title`."
   ]
  }
 ],
 "metadata": {
  "kernelspec": {
   "display_name": "Python 3 (ipykernel)",
   "language": "python",
   "name": "python3"
  },
  "language_info": {
   "codemirror_mode": {
    "name": "ipython",
    "version": 3
   },
   "file_extension": ".py",
   "mimetype": "text/x-python",
   "name": "python",
   "nbconvert_exporter": "python",
   "pygments_lexer": "ipython3",
   "version": "3.12.3"
  }
 },
 "nbformat": 4,
 "nbformat_minor": 4
}
