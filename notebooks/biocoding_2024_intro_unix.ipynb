{
 "cells": [
  {
   "cell_type": "markdown",
   "metadata": {},
   "source": [
    "# Intoduction to Unix"
   ]
  },
  {
   "cell_type": "markdown",
   "metadata": {},
   "source": [
    "Unix - more specifically [Linux](https://en.wikipedia.org/wiki/Linux) is the major operating system for science, including for bioinformatics. While there is a lot to learn about Linux, we will focus on the absolute basics for working with data"
   ]
  },
  {
   "cell_type": "markdown",
   "metadata": {},
   "source": [
    "## How do we interact with Linux?"
   ]
  },
  {
   "cell_type": "markdown",
   "metadata": {},
   "source": [
    "You might be familiar with using the mouse or keyboard to interact with an operating system like Windows or MacOS (or even Linux). But this GUI (Graphical User Interface, i.e. things that you can see and click) is only one way to interact with the operating system. Often when working on a remote server or even for a local computer where a GUI system is not setup, we need an alternative way to interact with the system, a CLI (Command Line Interface). This is where we use text commands to do everything that we would otherwise have done with a mouse and keyboard (explore files, cut/copy/paste) etc. Another advantage of CLI is that it is often much faster. This CLI is also available on systems with a GUI installed, using the \"terminal\" or the \"command prompt\" in MacOS or Windows respectively."
   ]
  },
  {
   "cell_type": "markdown",
   "metadata": {},
   "source": [
    "## Get to know your computer"
   ]
  },
  {
   "cell_type": "markdown",
   "metadata": {},
   "source": [
    "Commonly, we may be working on a computer that is not our own personal computer. For example, these notebooks are executing on a remote server. Before you start to work, it will be useful to use a few commands to find out what system you are working on, and what are its capabilities."
   ]
  },
  {
   "cell_type": "markdown",
   "metadata": {},
   "source": [
    "### The file system"
   ]
  },
  {
   "cell_type": "markdown",
   "metadata": {},
   "source": [
    "When using CLI to interact with the operating system, we need to know where we are in the file system of the computer. File system is just an organization of the files and directories (also called folders) such that each file can be identified using an address (or a filepath) like `/AAA/AAB/file`. Each file path in linux begins with `/`, which is the \"root\" of the whole file-system. We then specify a bunch of directories (in this example `AAA`, `AAB`) containing other directories until we reach the file of interest."
   ]
  },
  {
   "cell_type": "markdown",
   "metadata": {},
   "source": [
    "Lets see where we currently are in the file-system (called the \"working directory\"). Type the following command which stands for \"print working directory\":"
   ]
  },
  {
   "cell_type": "code",
   "execution_count": 5,
   "metadata": {},
   "outputs": [
    {
     "name": "stdout",
     "output_type": "stream",
     "text": [
      "/Users/pasani\n"
     ]
    }
   ],
   "source": [
    "pwd"
   ]
  },
  {
   "cell_type": "markdown",
   "metadata": {},
   "source": [
    "You can do everything that you would in a normal file explorer using commands, for example, changing the directory (`cd`), copying (`cp`), renaming or moving (`mv`) files, making directories (`mkdir`) or removing files (`rm`). We'll learn about some of these commands later in the notebook. The most useful command is `ls` which lists the contents of the current working directory. Let's try that:"
   ]
  },
  {
   "cell_type": "code",
   "execution_count": null,
   "metadata": {},
   "outputs": [],
   "source": [
    "ls"
   ]
  },
  {
   "cell_type": "markdown",
   "metadata": {},
   "source": [
    "If nothing is output on the screen, that means that the directory is empty."
   ]
  },
  {
   "cell_type": "markdown",
   "metadata": {},
   "source": [
    "### Users"
   ]
  },
  {
   "cell_type": "markdown",
   "metadata": {},
   "source": [
    "A server might be used by multiple people with different permissions to modify things. Each of them has a unique username to identify them and for the administrator to use to assign different levels of permissions to. To check your user name you can use the following command:"
   ]
  },
  {
   "cell_type": "code",
   "execution_count": 2,
   "metadata": {},
   "outputs": [
    {
     "name": "stdout",
     "output_type": "stream",
     "text": [
      "pasani\n"
     ]
    }
   ],
   "source": [
    "whoami"
   ]
  },
  {
   "cell_type": "markdown",
   "metadata": {},
   "source": [
    "Each user has a specific home directory (it is abbreviated as `~` in the filepath). On logging in, that is where we usually end up on a server. Furthermore, as we will see later, each file has a specific set of permissions for each user (whether they can read it, write it and so on)."
   ]
  },
  {
   "cell_type": "markdown",
   "metadata": {},
   "source": [
    "### Hardware details of the computer"
   ]
  },
  {
   "cell_type": "markdown",
   "metadata": {},
   "source": [
    "Next, let's get some information about your computer and see how good it is. The command `cat` just reads a file and outputs its content on the screen. The information of the computer's CPU is stored in a file located at `/proc/cpuinfo`. So we will now run a command with an argument (something else that you pass to a command). In this case, the argument is the file that we want `cat` to read. Let's run the following:"
   ]
  },
  {
   "cell_type": "code",
   "execution_count": null,
   "metadata": {},
   "outputs": [],
   "source": [
    "cat /proc/cpuinfo "
   ]
  },
  {
   "cell_type": "markdown",
   "metadata": {},
   "source": [
    "Every processor is numbered (0 though n). For each processor we get some information on its capabilities. More the number of processors, the faster is the computer. The capability of each processor is measured in terms of how many \"operations\" or calculations (for example, adding two numbers) it can do in a second (3GHz means 3 Billion operations a second!). If you use \"parallel processing\", you can use all the processors simultaneously and you can do 12GHz of calculations with 4 processors!"
   ]
  },
  {
   "cell_type": "markdown",
   "metadata": {},
   "source": [
    "Next, we may wish to know how much space is available on our hard drive. To see this we can use the following command:"
   ]
  },
  {
   "cell_type": "code",
   "execution_count": null,
   "metadata": {},
   "outputs": [],
   "source": [
    "df"
   ]
  },
  {
   "cell_type": "markdown",
   "metadata": {},
   "source": [
    "The amount of space (in [bytes](https://en.wikipedia.org/wiki/Byte)) is displayed; we can see what is used, and what is available space. Reading in bytes can be a bit difficult. How much space is available in MB or GB? We can use the same command, but we need to pass the command an argument to modify its behavior. Such arguments are also called \"options\" or \"modifiers\" or \"flags\" sometimes. To check the available options, we can consult the [manual for this program](https://linux.die.net/man/1/df). Here, `-h` will make the output more human-readable."
   ]
  },
  {
   "cell_type": "code",
   "execution_count": null,
   "metadata": {},
   "outputs": [],
   "source": [
    "df -h"
   ]
  },
  {
   "cell_type": "markdown",
   "metadata": {},
   "source": [
    "### Review Quiz!\n",
    "We learnt about arguments and options. Let us put our understanding to the test! \n",
    "1. The command `ls` that we learnt earlier can take an argument of the directory path for which it should list the contents (similar to `cat`). Choose a directory that you think is not empty (maybe the root directory `/`) and list the contents of that directory.\n",
    "2. Now, how about options. The command `ls` also accept many options (you can give it an option and the usual argument together too!). Try the option `-l` and rerun the same command as 1 above and see what the option displays. (Hint: It now also shows the permissions of the different files and folders granted to the user)."
   ]
  },
  {
   "cell_type": "markdown",
   "metadata": {},
   "source": [
    "### Exploring commands and what they do"
   ]
  },
  {
   "cell_type": "markdown",
   "metadata": {},
   "source": [
    "What if we want to learn about a command and the arguments and options it can accept? We can use the man pages! `man` stands for manual. Lets do an example - lets look up the usage of the command `ls`"
   ]
  },
  {
   "cell_type": "code",
   "execution_count": null,
   "metadata": {},
   "outputs": [],
   "source": [
    "man ls"
   ]
  },
  {
   "cell_type": "markdown",
   "metadata": {},
   "source": [
    "Do you see the argument we used above and the option? (For some commands, there is another way to learn about it by using the `--help` option. Example, `vim --help`)"
   ]
  },
  {
   "cell_type": "markdown",
   "metadata": {},
   "source": [
    "Here is a list of common commands that we can learn about and use! Take a minute to look up their usage in the man pages. Perhaps we can add them to a dictionary in our Hackpad :)\n",
    "1. File System Exploration\n",
    "- `cd`, `mkdir`\n",
    "- `rm`, `rmdir`\n",
    "- `cp`, `mv`\n",
    "2. Manipulating text\n",
    "- `grep`, `cut`\n",
    "- `cat`, `head`, `tail`\n",
    "3. Miscellaneous useful commands\n",
    "- `clear` (very useful to wipe the screen clean)\n",
    "- `chmod`\n",
    "- `wget`\n",
    "- `touch`\n",
    "- `vim` (See the [Editor War](https://en.wikipedia.org/wiki/Editor_war) and pick sides!)"
   ]
  },
  {
   "cell_type": "markdown",
   "metadata": {},
   "source": [
    "## How to be a Scientist 101!"
   ]
  },
  {
   "cell_type": "markdown",
   "metadata": {},
   "source": [
    "Now lets put them to use! This is what we will try to do. We will download some data pertaining to diseases in humans: the protein responsible for them and how is this protein orthologous (i.e. evolutionarily \"similar\") to proteins in the fruit fly ([Drosophila Melanogaster](https://en.wikipedia.org/wiki/Drosophila_melanogaster) is a famous model orgamnism from which we learnt a lot of genetics and biology)"
   ]
  },
  {
   "cell_type": "markdown",
   "metadata": {},
   "source": [
    "### Step 1\n",
    "First, make a directory. Call it the name of your favorite scientist and enter that directory. Double check the file path to confirm you are in the new directory. Next, lets use `wget` to get a file from a website. Lets get the file at this link in our newly created directory. http://ftp.flybase.org/releases/FB2022_03/precomputed_files/orthologs/dmel_human_orthologs_disease_fb_2022_03.tsv.gz"
   ]
  },
  {
   "cell_type": "code",
   "execution_count": null,
   "metadata": {},
   "outputs": [],
   "source": []
  },
  {
   "cell_type": "markdown",
   "metadata": {},
   "source": [
    "Did the file download? Use `ls` to ensure it downloaded."
   ]
  },
  {
   "cell_type": "markdown",
   "metadata": {},
   "source": [
    "### Step 2\n",
    "The file extension (the part after \".\" in a file name) suggests that this might be a compressed file (example of compressed file extensions: *.gz*, *.zip*, *.7z*). We need to de-compress it to be able to work with it. Luckily, linux has a command called `gzip`. See the manual for `gzip` and select the decompression option to uncompress this file. Run `ls` to again confirm that now you have the uncompressed file."
   ]
  },
  {
   "cell_type": "code",
   "execution_count": null,
   "metadata": {},
   "outputs": [],
   "source": []
  },
  {
   "cell_type": "markdown",
   "metadata": {},
   "source": [
    "### Step 3\n",
    "Let us peak inside the file. If you use `cat`, the whole file will be printed on the screen. We should start small and only see the first 5 lines of the file. Use the command `head` with one option that specifies the number of lines to see only the first 5 lines of the file. Also use `tail` to see the last 5 lines of the file. What kind of arrangement do you see in the file? (Hint: The extension can help you. See what *.tsv* might stand for)"
   ]
  },
  {
   "cell_type": "code",
   "execution_count": null,
   "metadata": {},
   "outputs": [],
   "source": []
  },
  {
   "cell_type": "markdown",
   "metadata": {},
   "source": [
    "### Step 4\n",
    "How can we pass the output of one command to another? We can use a pipe, or the `|` symbol. For example, the command `grep` looks for patterns. But we want to look for the pattern only in the first 5 lines of the file. We can use the `head` command with the option and the filename, put a pipe symbol `|` after it, and then use the `grep` command to search for a pattern. Try to look for the word \"Generated\" which will tell you when the data was generated. It will look something like this `head ... ... | grep Generated`"
   ]
  },
  {
   "cell_type": "code",
   "execution_count": null,
   "metadata": {},
   "outputs": [],
   "source": []
  },
  {
   "cell_type": "markdown",
   "metadata": {},
   "source": [
    "### Step 5\n",
    "We can see there are some columns in our dataset. Lets try using the *cut* command to slice the file into columns such that we can isolate different columns."
   ]
  },
  {
   "cell_type": "code",
   "execution_count": null,
   "metadata": {},
   "outputs": [],
   "source": []
  },
  {
   "cell_type": "markdown",
   "metadata": {},
   "source": [
    "### Step 6 (CHALLENGE!)\n",
    "If you made it so far, you already have started understanding the basics of interacting with linux via CLI. If you want a challenge, let's go forward! What if we wanted to search the file for a pattern? Lets search using regular expressions! Regular expressions are very useful. They are a pattern based syntax to search for specific patterns. Example, to look for an email address, we may want to look for all patterns that have a name, an *@* symbol, then a server name, a *.* symbol and finally the domain name. We can encode such a pattern in a single Regular Expression and then search for everything that matches this pattern. For starters lets look for a class of genes called HOX genes! First use `grep` to look for all HOX genes. There are too many! It also includes things like the SHOX or the PHOX genes. Now try to see if you can create a regular expression that only looks for HOXA or HOXB genes (they can optionally be followed by numbers) but not PHOX or SHOX genes. (Hint: `[XY]` matches either X or Y and `[^XY]` matches neither `X` nor `Y` but matches everything else)"
   ]
  },
  {
   "cell_type": "code",
   "execution_count": null,
   "metadata": {},
   "outputs": [],
   "source": []
  }
 ],
 "metadata": {
  "kernelspec": {
   "display_name": "Python 3 (ipykernel)",
   "language": "python",
   "name": "python3"
  },
  "language_info": {
   "codemirror_mode": {
    "name": "ipython",
    "version": 3
   },
   "file_extension": ".py",
   "mimetype": "text/x-python",
   "name": "python",
   "nbconvert_exporter": "python",
   "pygments_lexer": "ipython3",
   "version": "3.12.3"
  }
 },
 "nbformat": 4,
 "nbformat_minor": 4
}
