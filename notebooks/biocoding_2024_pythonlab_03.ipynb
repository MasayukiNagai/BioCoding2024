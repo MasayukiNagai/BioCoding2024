{
 "cells": [
  {
   "cell_type": "markdown",
   "id": "5fde939c-89d7-4409-9fc3-cb53494053b9",
   "metadata": {},
   "source": [
    "# Review String\n",
    "\n",
    "Let's start off with a small challenge to refresh our skills from the previous notebook. Below is some broken/incomplete code; complete the challenge by fixing it so that we print generate the double-stranded DNA sequence of the hiv `nef` gene"
   ]
  },
  {
   "cell_type": "code",
   "execution_count": null,
   "id": "17ee3218-6a27-4c81-afce-329372c926d2",
   "metadata": {},
   "outputs": [],
   "source": [
    "### Store the hiv genome as a variable ###\n",
    "\n",
    "hiv_genome_rna = uggaagggcuaauucacucccaacgaagacaagauauccuugaucuguggaucuaccacacacaaggcuacuucccugauuagcagaacuacacaccagggccagggaucagauauccacugaccuuuggauggugcuacaagcuaguaccaguugagccagagaaguuagaagaagccaacaaaggagagaacaccagcuuguuacacccugugagccugcauggaauggaugacccggagagagaaguguuagaguggagguuugacagccgccuagcauuucaucacauggcccgagagcugcauccggaguacuucaagaacugcugacaucgagcuugcuacaagggacuuuccgcuggggacuuuccagggaggcguggccugggcgggacuggggaguggcgagcccucagauccugcauauaagcagcugcuuuuugccuguacugggucucucugguuagaccagaucugagccugggagcucucuggcuaacuagggaacccacugcuuaagccucaauaaagcuugccuugagugcuucaaguagugugugcccgucuguugugugacucugguaacuagagaucccucagacccuuuuagucaguguggaaaaucucuagcaguggcgcccgaacagggaccugaaagcgaaagggaaaccagaggagcucucucgacgcaggacucggcuugcugaagcgcgcacggcaagaggcgaggggcggcgacuggugaguacgccaaaaauuuugacuagcggaggcuagaaggagagagaugggugcgagagcgucaguauuaagcgggggagaauuagaucgaugggaaaaaauucgguuaaggccagggggaaagaaaaaauauaaauuaaaacauauaguaugggcaagcagggagcuagaacgauucgcaguuaauccuggccuguuagaaacaucagaaggcuguagacaaauacugggacagcuacaaccaucccuucagacaggaucagaagaacuuagaucauuauauaauacaguagcaacccucuauugugugcaucaaaggauagagauaaaagacaccaaggaagcuuuagacaagauagaggaagagcaaaacaaaaguaagaaaaaagcacagcaagcagcagcugacacaggacacagcaaucaggucagccaaaauuacccuauagugcagaacauccaggggcaaaugguacaucaggccauaucaccuagaacuuuaaaugcauggguaaaaguaguagaagagaaggcuuucagcccagaagugauacccauguuuucagcauuaucagaaggagccaccccacaagauuuaaacaccaugcuaaacacaguggggggacaucaagcagccaugcaaauguuaaaagagaccaucaaugaggaagcugcagaaugggauagagugcauccagugcaugcagggccuauugcaccaggccagaugagagaaccaaggggaagugacauagcaggaacuacuaguacccuucaggaacaaauaggauggaugacaaauaauccaccuaucccaguaggagaaauuuauaaaagauggauaauccugggauuaaauaaaauaguaagaauguauagcccuaccagcauucuggacauaagacaaggaccaaaggaacccuuuagagacuauguagaccgguucuauaaaacucuaagagccgagcaagcuucacaggagguaaaaaauuggaugacagaaaccuuguugguccaaaaugcgaacccagauuguaagacuauuuuaaaagcauugggaccagcggcuacacuagaagaaaugaugacagcaugucagggaguaggaggacccggccauaaggcaagaguuuuggcugaagcaaugagccaaguaacaaauucagcuaccauaaugaugcagagaggcaauuuuaggaaccaaagaaagauuguuaaguguuucaauuguggcaaagaagggcacacagccagaaauugcagggccccuaggaaaaagggcuguuggaaauguggaaaggaaggacaccaaaugaaagauuguacugagagacaggcuaauuuuuuagggaagaucuggccuuccuacaagggaaggccagggaauuuucuucagagcagaccagagccaacagccccaccagaagagagcuucaggucugggguagagacaacaacucccccucagaagcaggagccgauagacaaggaacuguauccuuuaacuucccucaggucacucuuuggcaacgaccccucgucacaauaaagauaggggggcaacuaaaggaagcucuauuagauacaggagcagaugauacaguauuagaagaaaugaguuugccaggaagauggaaaccaaaaaugauagggggaauuggagguuuuaucaaaguaagacaguaugaucagauacucauagaaaucuguggacauaaagcuauagguacaguauuaguaggaccuacaccugucaacauaauuggaagaaaucuguugacucagauugguugcacuuuaaauuuucccauuagcccuauugagacuguaccaguaaaauuaaagccaggaauggauggcccaaaaguuaaacaauggccauugacagaagaaaaaauaaaagcauuaguagaaauuuguacagagauggaaaaggaagggaaaauuucaaaaauugggccugaaaauccauacaauacuccaguauuugccauaaagaaaaaagacaguacuaaauggagaaaauuaguagauuucagagaacuuaauaagagaacucaagacuucugggaaguucaauuaggaauaccacaucccgcaggguuaaaaaagaaaaaaucaguaacaguacuggaugugggugaugcauauuuuucaguucccuuagaugaagacuucaggaaguauacugcauuuaccauaccuaguauaaacaaugagacaccagggauuagauaucaguacaaugugcuuccacagggauggaaaggaucaccagcaauauuccaaaguagcaugacaaaaaucuuagagccuuuuagaaaacaaaauccagacauaguuaucuaucaauacauggaugauuuguauguaggaucugacuuagaaauagggcagcauagaacaaaaauagaggagcugagacaacaucuguugagguggggacuuaccacaccagacaaaaaacaucagaaagaaccuccauuccuuuggauggguuaugaacuccauccugauaaauggacaguacagccuauagugcugccagaaaaagacagcuggacugucaaugacauacagaaguuaguggggaaauugaauugggcaagucagauuuacccagggauuaaaguaaggcaauuauguaaacuccuuagaggaaccaaagcacuaacagaaguaauaccacuaacagaagaagcagagcuagaacuggcagaaaacagagagauucuaaaagaaccaguacauggaguguauuaugacccaucaaaagacuuaauagcagaaauacagaagcaggggcaaggccaauggacauaucaaauuuaucaagagccauuuaaaaaucugaaaacaggaaaauaugcaagaaugaggggugcccacacuaaugauguaaaacaauuaacagaggcagugcaaaaaauaaccacagaaagcauaguaauauggggaaagacuccuaaauuuaaacugcccauacaaaaggaaacaugggaaacaugguggacagaguauuggcaagccaccuggauuccugagugggaguuuguuaauaccccucccuuagugaaauuaugguaccaguuagagaaagaacccauaguaggagcagaaaccuucuauguagauggggcagcuaacagggagacuaaauuaggaaaagcaggauauguuacuaauagaggaagacaaaaaguugucacccuaacugacacaacaaaucagaagacugaguuacaagcaauuuaucuagcuuugcaggauucgggauuagaaguaaacauaguaacagacucacaauaugcauuaggaaucauucaagcacaaccagaucaaagugaaucagaguuagucaaucaaauaauagagcaguuaauaaaaaaggaaaaggucuaucuggcauggguaccagcacacaaaggaauuggaggaaaugaacaaguagauaaauuagucagugcuggaaucaggaaaguacuauuuuuagauggaauagauaaggcccaagaugaacaugagaaauaucacaguaauuggagagcaauggcuagugauuuuaaccugccaccuguaguagcaaaagaaauaguagccagcugugauaaaugucagcuaaaaggagaagccaugcauggacaaguagacuguaguccaggaauauggcaacuagauuguacacauuuagaaggaaaaguuauccugguagcaguucauguagccaguggauauauagaagcagaaguuauuccagcagaaacagggcaggaaacagcauauuuucuuuuaaaauuagcaggaagauggccaguaaaaacaauacauacugacaauggcagcaauuucaccggugcuacgguuagggccgccuguuggugggcgggaaucaagcaggaauuuggaauucccuacaauccccaaagucaaggaguaguagaaucuaugaauaaagaauuaaagaaaauuauaggacagguaagagaucaggcugaacaucuuaagacagcaguacaaauggcaguauucauccacaauuuuaaaagaaaaggggggauugggggguacagugcaggggaaagaauaguagacauaauagcaacagacauacaaacuaaagaauuacaaaaacaaauuacaaaaauucaaaauuuucggguuuauuacagggacagcagaaauccacuuuggaaaggaccagcaaagcuccucuggaaaggugaaggggcaguaguaauacaagauaauagugacauaaaaguagugccaagaagaaaagcaaagaucauuagggauuauggaaaacagauggcaggugaugauuguguggcaaguagacaggaugaggauuagaacauggaaaaguuuaguaaaacaccauauguauguuucagggaaagcuaggggaugguuuuauagacaucacuaugaaagcccucauccaagaauaaguucagaaguacacaucccacuaggggaugcuagauugguaauaacaacauauuggggucugcauacaggagaaagagacuggcauuugggucagggagucuccauagaauggaggaaaaagagauauagcacacaaguagacccugaacuagcagaccaacuaauucaucuguauuacuuugacuguuuuucagacucugcuauaagaaaggccuuauuaggacacauaguuagcccuaggugugaauaucaagcaggacauaacaagguaggaucucuacaauacuuggcacuagcagcauuaauaacaccaaaaaagauaaagccaccuuugccuaguguuacgaaacugacagaggauagauggaacaagccccagaagaccaagggccacagagggagccacacaaugaauggacacuagagcuuuuagaggagcuuaagaaugaagcuguuagacauuuuccuaggauuuggcuccauggcuuagggcaacauaucuaugaaacuuauggggauacuugggcaggaguggaagccauaauaagaauucugcaacaacugcuguuuauccauuuucagaauugggugucgacauagcagaauaggcguuacucgacagaggagagcaagaaauggagccaguagauccuagacuagagcccuggaagcauccaggaagucagccuaaaacugcuuguaccaauugcuauuguaaaaaguguugcuuucauugccaaguuuguuucauaacaaaagccuuaggcaucuccuauggcaggaagaagcggagacagcgacgaagagcucaucagaacagucagacucaucaagcuucucuaucaaagcaguaaguaguacauguaacgcaaccuauaccaauaguagcaauaguagcauuaguaguagcaauaauaauagcaauaguugugugguccauaguaaucauagaauauaggaaaauauuaagacaaagaaaaauagacagguuaauugauagacuaauagaaagagcagaagacaguggcaaugagagugaaggagaaauaucagcacuuguggagauggggguggagauggggcaccaugcuccuugggauguugaugaucuguagugcuacagaaaaauugugggucacagucuauuaugggguaccuguguggaaggaagcaaccaccacucuauuuugugcaucagaugcuaaagcauaugauacagagguacauaauguuugggccacacaugccuguguacccacagaccccaacccacaagaaguaguauugguaaaugugacagaaaauuuuaacauguggaaaaaugacaugguagaacagaugcaugaggauauaaucaguuuaugggaucaaagccuaaagccauguguaaaauuaaccccacucuguguuaguuuaaagugcacugauuugaagaaugauacuaauaccaauaguaguagcgggagaaugauaauggagaaaggagagauaaaaaacugcucuuucaauaucagcacaagcauaagagguaaggugcagaaagaauaugcauuuuuuuauaaacuugauauaauaccaauagauaaugauacuaccagcuauaaguugacaaguuguaacaccucagucauuacacaggccuguccaaagguauccuuugagccaauucccauacauuauugugccccggcugguuuugcgauucuaaaauguaauaauaagacguucaauggaacaggaccauguacaaaugucagcacaguacaauguacacauggaauuaggccaguaguaucaacucaacugcuguuaaauggcagucuagcagaagaagagguaguaauuagaucugucaauuucacggacaaugcuaaaaccauaauaguacagcugaacacaucuguagaaauuaauuguacaagacccaacaacaauacaagaaaaagaauccguauccagagaggaccagggagagcauuuguuacaauaggaaaaauaggaaauaugagacaagcacauuguaacauuaguagagcaaaauggaauaacacuuuaaaacagauagcuagcaaauuaagagaacaauuuggaaauaauaaaacaauaaucuuuaagcaauccucaggaggggacccagaaauuguaacgcacaguuuuaauuguggaggggaauuuuucuacuguaauucaacacaacuguuuaauaguacuugguuuaauaguacuuggaguacugaagggucaaauaacacugaaggaagugacacaaucacccucccaugcagaauaaaacaaauuauaaacauguggcagaaaguaggaaaagcaauguaugccccucccaucaguggacaaauuagauguucaucaaauauuacagggcugcuauuaacaagagauggugguaauagcaacaaugaguccgagaucuucagaccuggaggaggagauaugagggacaauuggagaagugaauuauauaaauauaaaguaguaaaaauugaaccauuaggaguagcacccaccaaggcaaagagaagaguggugcagagagaaaaaagagcagugggaauaggagcuuuguuccuuggguucuugggagcagcaggaagcacuaugggcgcagccucaaugacgcugacgguacaggccagacaauuauugucugguauagugcagcagcagaacaauuugcugagggcuauugaggcgcaacagcaucuguugcaacucacagucuggggcaucaagcagcuccaggcaagaauccuggcuguggaaagauaccuaaaggaucaacagcuccuggggauuugggguugcucuggaaaacucauuugcaccacugcugugccuuggaaugcuaguuggaguaauaaaucucuggaacagauuuggaaucacacgaccuggauggagugggacagagaaauuaacaauuacacaagcuuaauacacuccuuaauugaagaaucgcaaaaccagcaagaaaagaaugaacaagaauuauuggaauuagauaaaugggcaaguuuguggaauugguuuaacauaacaaauuggcugugguauauaaaauuauucauaaugauaguaggaggcuugguagguuuaagaauaguuuuugcuguacuuucuauagugaauagaguuaggcagggauauucaccauuaucguuucagacccaccucccaaccccgaggggacccgacaggcccgaaggaauagaagaagaagguggagagagagacagagacagauccauucgauuagugaacggauccuuggcacuuaucugggacgaucugcggagccugugccucuucagcuaccaccgcuugagagacuuacucuugauuguaacgaggauuguggaacuucugggacgcagggggugggaagcccucaaauauugguggaaucuccuacaguauuggagucaggaacuaaagaauagugcuguuagcuugcucaaugccacagccauagcaguagcugaggggacagauaggguuauagaaguaguacaaggagcuuguagagcuauucgccacauaccuagaagaauaagacagggcuuggaaaggauuuugcuauaagauggguggcaaguggucaaaaaguagugugauuggauggccuacuguaagggaaagaaugagacgagcugagccagcagcagauagggugggagcagcaucucgagaccuggaaaaacauggagcaaucacaaguagcaauacagcagcuaccaaugcugcuugugccuggcuagaagcacaagaggaggaggagguggguuuuccagucacaccucagguaccuuuaagaccaaugacuuacaaggcagcuguagaucuuagccacuuuuuaaaagaaaaggggggacuggaagggcuaauucacucccaaagaagacaagauauccuugaucuguggaucuaccacacacaaggcuacuucccugauuagcagaacuacacaccagggccaggggucagauauccacugaccuuuggauggugcuacaagcuaguaccaguugagccagauaagauagaagaggccaauaaaggagagaacaccagcuuguuacacccugugagccugcaugggauggaugacccggagagagaaguguuagaguggagguuugacagccgccuagcauuucaucacguggcccgagagcugcauccggaguacuucaagaacugcugacaucgagcuugcuacaagggacuuuccgcuggggacuuuccagggaggcguggccugggcgggacuggggaguggcgagcccucagauccugcauauaagcagcugcuuuuugccuguacugggucucucugguuagaccagaucugagccugggagcucucuggcuaacuagggaacccacugcuuaagccucaauaaagcuugccuugagugcuucaaguagugugugcccgucuguugugugacucugguaacuagagaucccucagacccuuuuagucaguguggaaaaucucuagca'"
   ]
  },
  {
   "cell_type": "code",
   "execution_count": null,
   "id": "aa028916-bc6c-4127-bade-4bfedfc4ef0d",
   "metadata": {},
   "outputs": [],
   "source": [
    "### Convert HIV RNA back to DNA ###\n",
    "\n",
    "hiv_genome = hiv_genome_rna.rep(u, 't')"
   ]
  },
  {
   "cell_type": "code",
   "execution_count": null,
   "id": "a0f35e60-e52e-476f-a85a-c6d52860312c",
   "metadata": {},
   "outputs": [],
   "source": [
    "### Isolate the nef gene (start:8797, end:9417) ###\n",
    "\n",
    "nef_gene = hiv_genome[8797]\n",
    "print(nef_gene)  # Does it start with 'atg'? Does it end with either 'taa' or 'tag' or 'tga'?"
   ]
  },
  {
   "cell_type": "code",
   "execution_count": null,
   "id": "99fef319-829e-4130-92cd-1ac9a73de195",
   "metadata": {},
   "outputs": [],
   "source": [
    "### Print the nef gene in the FASTA format ###\n",
    "\n",
    "fasta_header = '>nef type 1 (HXB2)'\n",
    "print(f\"{fasta_header}{nef_gene}\")"
   ]
  },
  {
   "cell_type": "code",
   "execution_count": null,
   "id": "f1d3aebd-9cc5-4a4c-8288-a82e92660d8c",
   "metadata": {},
   "outputs": [],
   "source": [
    "### Calculate and report the GC content of the nef gene ###\n",
    "\n",
    "nef_gc_content = (nef_gene.count(c) + nef_gene.count(g)) / len(nef_gene)\n",
    "print(f\"The GC content of the nef gene is: {nef_gc_content * 100} %\")"
   ]
  },
  {
   "cell_type": "markdown",
   "id": "e73bfd31-3e75-4154-8d2a-409f598e783e",
   "metadata": {},
   "source": [
    "****"
   ]
  },
  {
   "cell_type": "markdown",
   "id": "3bf1d44e-71e3-4afe-a8db-9a81d5b4dee7",
   "metadata": {},
   "source": [
    "# Conditional Statements\n",
    "\n",
    "In programming, making decisions based on conditions is essential. Python uses boolean values, `True` and `False`, to evaluate conditions. These boolean values are produced using comparison operators and are used in conditional statements, also known as `if` statements. Let's explore how these work together to control the flow of your program.\n"
   ]
  },
  {
   "cell_type": "code",
   "execution_count": 36,
   "id": "cd6673a8-8579-43f3-a3b2-c474a8e653e9",
   "metadata": {},
   "outputs": [
    {
     "name": "stdout",
     "output_type": "stream",
     "text": [
      "True\n"
     ]
    }
   ],
   "source": [
    "# Evaluate if 2 < 5 is True or False\n",
    "print(2 < 5)"
   ]
  },
  {
   "cell_type": "markdown",
   "id": "dc752c80-e6fe-438e-bfcc-a40db4c07899",
   "metadata": {},
   "source": [
    "You can also store a boolean value in a variable"
   ]
  },
  {
   "cell_type": "code",
   "execution_count": 39,
   "id": "84297bb3-4513-4bfb-8fce-e7c455236bf2",
   "metadata": {},
   "outputs": [
    {
     "name": "stdout",
     "output_type": "stream",
     "text": [
      "Is the person a student? True\n",
      "Is the person 20 years or older? False\n"
     ]
    }
   ],
   "source": [
    "is_student = True\n",
    "print(\"Is the person a student?\", is_student)\n",
    "\n",
    "age = 16\n",
    "is_20_or_older = age >= 20\n",
    "print(\"Is the person 20 years or older?\", is_20_or_older)"
   ]
  },
  {
   "cell_type": "markdown",
   "id": "3dd78403-a85d-435b-aa9a-aee9ad9b98be",
   "metadata": {},
   "source": [
    "The conditionals above all use the comparison operators, a more complete list is as follows:\n",
    "\n",
    "|Operator|Description|\n",
    "|-------|:----------|\n",
    "|``==``|Comparison: True if both operands are equal|\n",
    "|``!=``|Not equal: True if both operands are not equal|\n",
    "|``>``|Greater than: True if left operand is greater than right|\n",
    "|``<``|Less than: True if left operand is less than right|\n",
    "|``<=``|Less than or equal to: True if left operand is less than or equal to right|\n",
    "|``>=``|Greater than or equal to: True if left operand is greater than or equal to right|\n",
    "\n"
   ]
  },
  {
   "cell_type": "code",
   "execution_count": null,
   "id": "9e7d2b85-a35d-4da1-8e84-d690a9fbeef7",
   "metadata": {},
   "outputs": [],
   "source": [
    "### Play around with the comparison operators ###\n",
    "\n",
    "\n",
    "\n"
   ]
  },
  {
   "cell_type": "markdown",
   "id": "991db0c0-8cb6-4f65-bdd8-b33ee8ea30c3",
   "metadata": {},
   "source": [
    "## if else statements\n",
    "\n",
    "Conditional statements, also known as `if` statements, allow you to execute different code blocks depending on whether a condition is `True` or `False`. if statements also follow a specific structure:\n",
    "\n",
    "```\n",
    "if condition:\n",
    "    # code to execute if the condition is True\n",
    "```\n",
    "\n",
    "* `if`: An if statement starts with an `if`\n",
    "* `condition`: condition you want to check (e.g., `age == 20`)\n",
    "* `:` (colon): This tells Python that this is the end of a conditinoal statement\n",
    "* indent: code used inside an if statement must be indented to tell Python that the code belongs to the if statement. The best practice is to use 4 spaces (don't use the tab key!)\n",
    "\n",
    "Here is how we can use it (change the value of `my_age` and see how it affects the output):"
   ]
  },
  {
   "cell_type": "code",
   "execution_count": 86,
   "id": "a36c5d71-502f-4985-a7e6-0f7eb65af3c0",
   "metadata": {},
   "outputs": [
    {
     "name": "stdout",
     "output_type": "stream",
     "text": [
      "I am 15 years or younger\n"
     ]
    }
   ],
   "source": [
    "my_age = 10\n",
    "\n",
    "if my_age <= 15:\n",
    "    print(\"I am 15 years or younger\")"
   ]
  },
  {
   "cell_type": "markdown",
   "id": "6d275ee6-5360-418d-9b07-4eba3866c5f1",
   "metadata": {},
   "source": [
    "Write a few if statements and see what happens when the statement is `True` or `False`"
   ]
  },
  {
   "cell_type": "code",
   "execution_count": 83,
   "id": "29d02c60-cbcf-4f73-bbdd-b3e05158b53e",
   "metadata": {},
   "outputs": [],
   "source": [
    "### Write your if-statement here ###\n",
    "\n",
    "\n"
   ]
  },
  {
   "cell_type": "markdown",
   "id": "326e1ee3-a13f-4b9f-b607-b3564ce4b3c2",
   "metadata": {},
   "source": [
    "We can also supplement the if statement by telling Python what to do if the condition is `False`, by adding a `else` statement:"
   ]
  },
  {
   "cell_type": "code",
   "execution_count": 89,
   "id": "bb2aecf1-1b39-4b39-8e2d-bae40d75c57c",
   "metadata": {},
   "outputs": [
    {
     "name": "stdout",
     "output_type": "stream",
     "text": [
      "I am older than 20 years\n"
     ]
    }
   ],
   "source": [
    "my_age = 30\n",
    "\n",
    "if my_age <= 20:\n",
    "    print(\"I am 20 years or younger\")\n",
    "else:\n",
    "    print(\"I am older than 20 years\")"
   ]
  },
  {
   "cell_type": "markdown",
   "id": "90d433ab-6d32-495a-966e-d87555e4ca3c",
   "metadata": {},
   "source": [
    "Try writing a few if-else statements in the following cell (remember taht identing is important!)"
   ]
  },
  {
   "cell_type": "code",
   "execution_count": 90,
   "id": "837fc36f-fa57-404b-ac6d-b29dfa2490a2",
   "metadata": {},
   "outputs": [],
   "source": [
    "### Write your if-else statement here ###\n",
    "\n",
    "\n"
   ]
  },
  {
   "cell_type": "markdown",
   "id": "4ee3ff3a-70a4-4cad-a934-41fe52f73e33",
   "metadata": {},
   "source": [
    "As powerful as if/else statements can be, we often examine multiple conditions at one time. We can do this using `elif`, short for else if, which allows us to provide an additional condition to check IF the previous conditional is `False`. Let's see how if-elif-else statement work in the next example:"
   ]
  },
  {
   "cell_type": "code",
   "execution_count": null,
   "id": "9a25469a-3f63-4f27-89fd-9a2d6b81685b",
   "metadata": {},
   "outputs": [],
   "source": [
    "### Assign a day to the today variable ###\n",
    "\n",
    "today = \n",
    "\n",
    "if today == 'Monday':\n",
    "    print('Walk the dog')\n",
    "elif today == 'Tuesday':\n",
    "    print('Pick up the laundry')\n",
    "elif today == 'Wednesday':\n",
    "    print('Go shopping')\n",
    "elif today == 'Thursday':\n",
    "    print('Call mom')\n",
    "elif today == 'Friday':\n",
    "    print('Plan for the weekend')\n",
    "else:\n",
    "    print('It must be the weekend, nothing to do')"
   ]
  },
  {
   "cell_type": "markdown",
   "id": "cb639ea0-96ae-4cb4-b70f-cabe48b627c4",
   "metadata": {},
   "source": [
    "It is important to note that only one of the code blocks will be executed for one if statement! What does that mean? Let's look at the following two cells and guess how the outputs are going to be　different:"
   ]
  },
  {
   "cell_type": "code",
   "execution_count": null,
   "id": "f6ab1612-e3f2-4615-b17c-1e51c9c05fd6",
   "metadata": {},
   "outputs": [],
   "source": [
    "# Using ONE if statement with multiple conditions\n",
    "my_age = 15\n",
    "\n",
    "if my_age < 80:\n",
    "    print(\"I am younger than 80 years\")\n",
    "elif my_age < 40:\n",
    "    print(\"I am younger than 40 years\")\n",
    "elif my_age < 20:\n",
    "    print(\"I am younger than 20 years\")\n",
    "elif my_age < 10:\n",
    "    print(\"I am younger than 10 years\")"
   ]
  },
  {
   "cell_type": "code",
   "execution_count": null,
   "id": "dc8b1a79-4a16-4e26-a61e-4046641ce8ec",
   "metadata": {},
   "outputs": [],
   "source": [
    "# Using mutliple if statements, each of which has one condition\n",
    "my_age = 15\n",
    "\n",
    "if my_age < 80:\n",
    "    print(\"I am younger than 80 years\")\n",
    "if my_age < 40:\n",
    "    print(\"I am younger than 40 years\")\n",
    "if my_age < 20:\n",
    "    print(\"I am younger than 20 years\")\n",
    "if my_age < 10:\n",
    "    print(\"I am younger than 10 years\")"
   ]
  },
  {
   "cell_type": "markdown",
   "id": "674373d3-d20f-4075-85b4-07557789fd55",
   "metadata": {},
   "source": [
    "## Random number"
   ]
  },
  {
   "cell_type": "markdown",
   "id": "2ce802ef-4f7d-426c-890a-59c3037fb422",
   "metadata": {},
   "source": [
    "Now let's combine a random variable with our conditional operators and make a simple simulation: flipping a coin!\n",
    "\n",
    "To do that we can use the `random` module from the [NumPy](https://numpy.org) package. A **[module](https://docs.python.org/3/tutorial/modules.html)** is a single file containing Python code that may include functions, classes, or variables defined and implemented by someone else, which you can use in your own programs. A package is a collection of modules grouped together. Think of it as a box full of toolkits, each filled with extra tools!\n",
    "\n",
    "NumPy, as a package, contains a number of useful functions including the ability to generate \"random\" numbers. To use the `random` module within NumPy, we first have to download NumPy to your computer and then ***import*** it to our notebook. Since we have already downloded NumPy for you, we just need to import it:"
   ]
  },
  {
   "cell_type": "code",
   "execution_count": 5,
   "id": "65c03c27-dd19-4bed-bd96-83c6fb32127c",
   "metadata": {},
   "outputs": [],
   "source": [
    "# Import the random module from NumPy package\n",
    "from numpy import random"
   ]
  },
  {
   "cell_type": "markdown",
   "id": "5c90444b-23c6-42a8-873e-acbacf79bbb5",
   "metadata": {},
   "source": [
    "`random` has a method called `.randint(low, high)`, which generates random integers from low (inclusive) to high (exclusive). \n"
   ]
  },
  {
   "cell_type": "code",
   "execution_count": 55,
   "id": "5c697e3b-677d-4532-ab01-6ad30f5b825d",
   "metadata": {},
   "outputs": [
    {
     "name": "stdout",
     "output_type": "stream",
     "text": [
      "My random int is: 4\n"
     ]
    }
   ],
   "source": [
    "# Generate a random int that is between 1 (inclusive) and 10 (exlusive)\n",
    "my_random_int = random.randint(1, 10)\n",
    "print(f\"My random int is: {my_random_int}\")"
   ]
  },
  {
   "cell_type": "markdown",
   "id": "16eec480-72ed-43e5-9167-1a49ba312da7",
   "metadata": {},
   "source": [
    "Rerun the cell above a few times to see that you get numbers 1-9 \"randomly\". Please feel free to change the range and see how it affects the values generated!"
   ]
  },
  {
   "cell_type": "markdown",
   "id": "2c40102b-8a8e-4794-93f1-03cc68374114",
   "metadata": {},
   "source": [
    "You can also generate a random float between 0.0 and 1.0, using `.ranf`"
   ]
  },
  {
   "cell_type": "code",
   "execution_count": 64,
   "id": "590bec50-bb3f-498d-a157-7558a634ea19",
   "metadata": {},
   "outputs": [
    {
     "name": "stdout",
     "output_type": "stream",
     "text": [
      "My random float is: 0.06517375147863891\n"
     ]
    }
   ],
   "source": [
    "my_random_float = random.ranf()\n",
    "print(f\"My random float is: {my_random_float}\")"
   ]
  },
  {
   "cell_type": "markdown",
   "id": "e9f5da5c-9483-4a07-b883-59e0d2e86ed8",
   "metadata": {},
   "source": [
    "You can control the number of decimal places displayed in your output by adding `:.2f` inside of the `{}` in a formatted string, where `.2f` specifies that you want to show up to 2 decimal places. Here's how to apply it:"
   ]
  },
  {
   "cell_type": "code",
   "execution_count": 68,
   "id": "8c4db0f7-38d1-47d2-ae55-4fe0d11dae1a",
   "metadata": {},
   "outputs": [
    {
     "name": "stdout",
     "output_type": "stream",
     "text": [
      "My random float is 0.065 in 3 decimal places\n",
      "My random float is 0.065173751 in 9 decimal places\n",
      "My random float is 0.065173751478638908274376717600 in 30 decimal places\n"
     ]
    }
   ],
   "source": [
    "print(f\"My random float is {my_random_float:.3f} in 3 decimal places\")\n",
    "print(f\"My random float is {my_random_float:.9f} in 9 decimal places\")\n",
    "print(f\"My random float is {my_random_float:.30f} in 30 decimal places\")"
   ]
  },
  {
   "cell_type": "markdown",
   "id": "8f3b4059-9bd1-4c43-9c98-f67e840eb763",
   "metadata": {},
   "source": [
    "You can also do this without f-strings like below (but I personally find it less intuitive...)"
   ]
  },
  {
   "cell_type": "code",
   "execution_count": 69,
   "id": "b0aa951d-ea94-4403-a876-deb2bdb9ba34",
   "metadata": {},
   "outputs": [
    {
     "name": "stdout",
     "output_type": "stream",
     "text": [
      "My random float is 0.065 to 3 digits\n",
      "My random float is 0.065173751 to 9 digits\n",
      "My random float is 0.065173751478638908274376717600 to 30 digits\n"
     ]
    }
   ],
   "source": [
    "print('My random float is %0.3f to 3 digits' % my_random_float)\n",
    "print('My random float is %0.9f to 9 digits' % my_random_float)\n",
    "print('My random float is %0.30f to 30 digits' % my_random_float)"
   ]
  },
  {
   "cell_type": "markdown",
   "id": "21a99da1-8658-4bc4-abf1-36e5ac0acdb7",
   "metadata": {},
   "source": [
    "## Simulating a Coin Flip\n",
    "\n",
    "Using the `random` module and `if` statements, write code to simulate flipping a coin:\n",
    "\n",
    "1. Use the `random` module to generate a random float between 0 and 1. Assign this value to a variable .\n",
    "2. Use an `if` statement to decide the outcome. If the number is 0.5 or greater, we'll say the coin landed on \"Heads\". If it's less than 0.5, it will be \"Tails\". This mimics the 50/50 chance of flipping a real coin."
   ]
  },
  {
   "cell_type": "code",
   "execution_count": 94,
   "id": "f313a9ed-5509-44ea-ac07-a3daf1920014",
   "metadata": {},
   "outputs": [],
   "source": [
    "### Write your code here ###\n",
    "\n",
    "\n",
    "\n",
    "\n"
   ]
  },
  {
   "cell_type": "markdown",
   "id": "f7dda4b4-7aaa-4214-a88d-39eea0c0dddc",
   "metadata": {},
   "source": [
    "****"
   ]
  },
  {
   "cell_type": "markdown",
   "id": "576bf6e2-4d94-43ee-b958-adfc7a56a52e",
   "metadata": {},
   "source": [
    "# Introduce Lists\n",
    "\n",
    "Now that we have mastered strings, it's time to introduce another very important variable type. (Just a remainder, we have already worked with several types of variables including `int`, `float` and `str`!) The next data type is a **list**. A list can store a collection of items with special properties:\n",
    "\n",
    "* ordered\n",
    "* indexed\n",
    "* iterable\n",
    "\n",
    "Let's explore what these properties actually mean by creating a list object, which in Python is done using the `[]` brackets."
   ]
  },
  {
   "cell_type": "code",
   "execution_count": 1,
   "id": "da707614-a64d-480c-b41e-3e604daa261d",
   "metadata": {},
   "outputs": [],
   "source": [
    "my_list = []"
   ]
  },
  {
   "cell_type": "markdown",
   "id": "be3982b1-66a5-45d1-beca-edfde9043a36",
   "metadata": {},
   "source": [
    "Let's see if Python recognizes that our `my_list` variable is a list"
   ]
  },
  {
   "cell_type": "code",
   "execution_count": 3,
   "id": "29be65bb-ed7a-4b10-8991-53751462fbd0",
   "metadata": {},
   "outputs": [
    {
     "name": "stdout",
     "output_type": "stream",
     "text": [
      "<class 'list'>\n"
     ]
    }
   ],
   "source": [
    "print(type(my_list))"
   ]
  },
  {
   "cell_type": "markdown",
   "id": "e50d159e-6a48-4a83-9f9e-60d06c470f4b",
   "metadata": {},
   "source": [
    "So far we have created `[]` - an empty list, and assigned it the name `my_list`. We can add things to `my_list` using the `.append` method defined for the list object. For example,"
   ]
  },
  {
   "cell_type": "code",
   "execution_count": 19,
   "id": "5baed3c8-1a5e-4781-bcb3-d6f0466b3d50",
   "metadata": {},
   "outputs": [
    {
     "name": "stdout",
     "output_type": "stream",
     "text": [
      "before: []\n",
      "after: ['DNA']\n"
     ]
    }
   ],
   "source": [
    "# Create a list object\n",
    "new_list = []\n",
    "\n",
    "# Check what new_list holds before adding \n",
    "print(f\"before: {new_list}\")\n",
    "\n",
    "# We add a string to the list\n",
    "new_list.append('DNA')\n",
    "\n",
    "# Check what new_list holds after adding\n",
    "print(f\"after: {new_list}\")"
   ]
  },
  {
   "cell_type": "code",
   "execution_count": 20,
   "id": "4a27963b-bb10-4920-aca4-f3cba8c9ad50",
   "metadata": {},
   "outputs": [
    {
     "name": "stdout",
     "output_type": "stream",
     "text": [
      "['DNA', 'RNA']\n"
     ]
    }
   ],
   "source": [
    "# We can add another string\n",
    "new_list.append('RNA')\n",
    "print(new_list)"
   ]
  },
  {
   "cell_type": "code",
   "execution_count": null,
   "id": "37536141-5094-4ff4-997f-eb779d231b48",
   "metadata": {},
   "outputs": [],
   "source": [
    "### Add another string (e.g. 'Protein') ###\n",
    "\n"
   ]
  },
  {
   "cell_type": "markdown",
   "id": "fb3f75a0-8620-4e7a-806c-a768275cbd1c",
   "metadata": {},
   "source": [
    "When we create a list object, we can also include its members in the beginning"
   ]
  },
  {
   "cell_type": "code",
   "execution_count": 21,
   "id": "6de18d3a-994f-4567-bb31-c8659d089d74",
   "metadata": {},
   "outputs": [
    {
     "name": "stdout",
     "output_type": "stream",
     "text": [
      "['First', 'Second', 'Third']\n"
     ]
    }
   ],
   "source": [
    "my_other_list = ['First', 'Second', 'Third']\n",
    "print(my_other_list)"
   ]
  },
  {
   "cell_type": "markdown",
   "id": "311db1eb-18ab-4512-98ad-cc80a497b72e",
   "metadata": {},
   "source": [
    "A list maintains the order of elements in the list. Also, lists are indexed (starting at 0) in a way similar to strings\n",
    "\n",
    "|Index|List Element|\n",
    "|:----|:-----------|\n",
    "|0|'DNA'|\n",
    "|1|'RNA'|\n",
    "|2|'Protein'|\n",
    "\n",
    "Can you print genes from the list below in a given order?\\\n",
    "The correct order is: gag, pol, vif, vpr, vpu, env, nef"
   ]
  },
  {
   "cell_type": "code",
   "execution_count": null,
   "id": "651ef908-c84f-45a3-bc36-462f7cd3f066",
   "metadata": {},
   "outputs": [],
   "source": [
    "hiv_gene_names = ['env', 'gag', 'vif', 'pol', 'vpr', 'vpu', 'nef']\n",
    "\n",
    "### Write your code here ###\n",
    "\n",
    "\n",
    "\n"
   ]
  },
  {
   "cell_type": "markdown",
   "id": "cbb89e73-8545-4a7d-9d62-7e6d865fa00f",
   "metadata": {},
   "source": [
    "## Iteration and loops\n",
    "This topic is important enough to get its own section! Not only are we going to talk about iteration, but we are going to introduce a very important concept in computing - loop. A loop lets you repeat a set of instructions without having to write out every command. This is at the heart of what makes computers useful - being able to carry out repetitive tasks without our input. \n",
    "\n",
    "Let's look at our first for loop; to start we will use a list of nucleotides:"
   ]
  },
  {
   "cell_type": "code",
   "execution_count": 31,
   "id": "6b5b8cdc-56f3-4a9a-86b9-efd1cbbec6c5",
   "metadata": {},
   "outputs": [
    {
     "name": "stdout",
     "output_type": "stream",
     "text": [
      "['adenine', 'thymine', 'cytosine', 'guanine']\n"
     ]
    }
   ],
   "source": [
    "DNA_nucleotides = ['adenine',\n",
    "                   'thymine',\n",
    "                   'cytosine',\n",
    "                   'guanine']\n",
    "\n",
    "print(DNA_nucleotides)"
   ]
  },
  {
   "cell_type": "markdown",
   "id": "c01525c4-6e25-4934-a4f7-a931c1c625a5",
   "metadata": {},
   "source": [
    "To print out all the items in the list, we can print them one by one using several print statements:"
   ]
  },
  {
   "cell_type": "code",
   "execution_count": 33,
   "id": "fc07e88a-162f-4c9d-9775-f772cdb47c4c",
   "metadata": {},
   "outputs": [
    {
     "name": "stdout",
     "output_type": "stream",
     "text": [
      "adenine\n",
      "thymine\n",
      "cytosine\n",
      "guanine\n"
     ]
    }
   ],
   "source": [
    "print(DNA_nucleotides[0])\n",
    "print(DNA_nucleotides[1])\n",
    "print(DNA_nucleotides[2])\n",
    "print(DNA_nucleotides[3])"
   ]
  },
  {
   "cell_type": "markdown",
   "id": "cc1028bf-476c-4262-93fe-f6f909361d06",
   "metadata": {},
   "source": [
    "Alternatively, we can use a **for** loop:"
   ]
  },
  {
   "cell_type": "code",
   "execution_count": 34,
   "id": "6b7443b5-bb1f-488b-a039-1effa722a1e5",
   "metadata": {},
   "outputs": [
    {
     "name": "stdout",
     "output_type": "stream",
     "text": [
      "adenine\n",
      "thymine\n",
      "cytosine\n",
      "guanine\n"
     ]
    }
   ],
   "source": [
    "for nucleotide in DNA_nucleotides:\n",
    "    print(nucleotide)"
   ]
  },
  {
   "cell_type": "markdown",
   "id": "b5f0f580-8924-4227-b9b7-30c6d420944c",
   "metadata": {},
   "source": [
    "### For Loops\n",
    "We have got the same output but in just two lines! A for-loop follows a specific structure:\n",
    "\n",
    "```\n",
    "for variable in iterable:\n",
    "    # code to execute repeatedly\n",
    "```\n",
    "\n",
    "Let's break this down a bit:\n",
    "\n",
    "* `for`: A for loop starts with a `for`\n",
    "* `variable`: This is a placeholder for each item in the `iterable` as the loop iterates. It can be named anything\n",
    "* `in`: This tells Python what iterable it should execute the for loop on\n",
    "* `iterable`: This is a collection of items you iterate through.\n",
    "* `:` (colon): This tells Python that this is the end of the first line of a for loop\n",
    "* indent: code used inside a for loop must be indented to tell Python that the code belongs to the loop. The best practice is to use 4 spaces (don't use the tab key!)\n",
    "\n",
    "Each time the loop iterates, the `variable` takes on the value of the next item in the `iterable`. The block of code inside the loop then executes using this value. Let's try the following with for loops!"
   ]
  },
  {
   "cell_type": "code",
   "execution_count": null,
   "id": "10184784-8a69-498d-b47b-bbe6b3e809b2",
   "metadata": {},
   "outputs": [],
   "source": [
    "RNA_nucleotides = ['adenine',\n",
    "                   'uracil'\n",
    "                   'cytosine',\n",
    "                   'guanine']\n",
    "\n",
    "### Write a loop that prints out all the RNA nucleotides  ###\n",
    "\n",
    "\n"
   ]
  },
  {
   "cell_type": "markdown",
   "id": "050102cd-ee80-4e0d-a232-f114130812fa",
   "metadata": {},
   "source": [
    "### While Loops\n",
    "\n",
    "Besides for loops, Python provides another type of loops, **while** loops. A while loops repeats as long as a certain boolean condition is true. It's used when you want to continue doing something until a condition changes, such as waiting for a specific input. Here is an example:"
   ]
  },
  {
   "cell_type": "code",
   "execution_count": 95,
   "id": "bf8ed308-18df-4ca4-866e-cd168e0dc5d3",
   "metadata": {},
   "outputs": [
    {
     "name": "stdout",
     "output_type": "stream",
     "text": [
      "Number is currently: 0\n",
      "Number is currently: 1\n",
      "Number is currently: 2\n",
      "Number is currently: 3\n",
      "Number is currently: 4\n"
     ]
    }
   ],
   "source": [
    "number = 0\n",
    "while number < 5:\n",
    "    print(\"Number is currently:\", number)\n",
    "    number += 1  # This is crucial as it changes the loop condition"
   ]
  },
  {
   "cell_type": "markdown",
   "id": "bf8c195b-5408-4211-9821-8c6afe08fbfb",
   "metadata": {},
   "source": [
    "The key differences are:\n",
    "- `For` loops are ideal for iterating over items of a sequence, such as elements in a list.\n",
    "- `While` loops are better suited for continuing an action until a condition changes. They require careful handling to ensure the loop has a way to end."
   ]
  },
  {
   "cell_type": "markdown",
   "id": "6c580ce8-4e12-4de7-98bc-08834ca514e9",
   "metadata": {},
   "source": [
    "****"
   ]
  },
  {
   "cell_type": "markdown",
   "id": "3d5cd8bc-6f8d-4c8f-b872-08f54e208c43",
   "metadata": {},
   "source": [
    "# Simulating mutation of the HIV genome\n",
    "\n",
    "Mutations are (at least in part) a random process that drives changes in a genome. This process is particularly crucial for viruses, allowing them to evolve rapidly. In viruses like HIV, mutations can lead to significant advantages such as evasion of host immune responses, development of drug resistance, or acquisition of new capabilities.\n",
    "\n",
    "According to [Abram et.al. 2010](https://journals.asm.org/doi/full/10.1128/jvi.00915-10) the mutation rate of the HIV-1 genome is approximately $1.4\\times10^{-5}$ mutations per base pair per replication cycle. This means that, on average, each base has a $1.4\\times10^{-5}$ chance of mutating each time the genome is replicated. \n",
    "\n",
    "The most common mutation type is single nucleotide polymorphisims ([SNPs](https://en.wikipedia.org/wiki/Single-nucleotide_polymorphism)), which involves the substitution of one nucleotide for another (e.g., `A` → `C`). The table below shows the ratios of SNPs in the HIV genome, where original nucleotides are on the left and mutated nucleotides are on the top (e.g., 146 cases for `G` → `A`).\n",
    "\n",
    "![](img/hivmutation_table_abram2010.png\t)\n",
    "\n",
    "Transitions and transversions are types of SNPs:\n",
    "* Transitions: substution of a purine for another purine, or a pyrimidine for another pyrimidine (A$\\leftrightarrow$G, T$\\leftrightarrow$C)\n",
    "* Transversions: substitution of a purine for a pyrimidine, or vice versa (A$\\leftrightarrow$T, A$\\leftrightarrow$C, G$\\leftrightarrow$T, G$\\leftrightarrow$C)"
   ]
  },
  {
   "cell_type": "markdown",
   "id": "a493f041-a249-44bc-9c5b-1cc402d9f08e",
   "metadata": {},
   "source": [
    "**Challenge**: We'll simulate the mutation process of the HIV genome over multiple replication cycles. You will:\n",
    "1. Randomly decide if a mutation occurs in a replication cycle based on a given mutation probability.\n",
    "2. Randomly select which nucleotide in the genome will mutate.\n",
    "3. Choose a new nucleotide to replace the original, ensuring it's a different nucleotide to represent an actual change.\n",
    "4. Repeat 1-3 for 50 cycles and observe how the genome changes"
   ]
  },
  {
   "cell_type": "markdown",
   "id": "6103de6e-549d-4645-a761-3f90aaf9d6ee",
   "metadata": {},
   "source": [
    "## 1. Decide if a mutation occurs\n",
    "Just like flipping a coin to decide between two choices, we can use a random chance to determine if a mutation occurs during each replication cycle of the HIV genome. However, the chance of a mutation isn't 50% like it is with a fair coin.\n",
    "\n",
    "Here, for simplicity, we calculate the chance of a mutation occuring during one cycle as:\n",
    "\n",
    "```\n",
    "mutation_probability = genome_length * mutation_rate_per_bp\n",
    "```\n",
    "\n",
    "Using this equation, compute the mutation probability in the cell below:\\\n",
    "*Tip*: $1.4\\times10^{-5}$ can be expressed as `1.4e-5` in Python"
   ]
  },
  {
   "cell_type": "code",
   "execution_count": null,
   "id": "391f82d2-951d-4e05-9b44-8d1cbd72c2bf",
   "metadata": {},
   "outputs": [],
   "source": [
    "hiv_genome = 'TGGAAGGGCTAATTCACTCCCAACGAAGACAAGATATCCTTGATCTGTGGATCTACCACACACAAGGCTACTTCCCTGATTAGCAGAACTACACACCAGGGCCAGGGATCAGATATCCACTGACCTTTGGATGGTGCTACAAGCTAGTACCAGTTGAGCCAGAGAAGTTAGAAGAAGCCAACAAAGGAGAGAACACCAGCTTGTTACACCCTGTGAGCCTGCATGGAATGGATGACCCGGAGAGAGAAGTGTTAGAGTGGAGGTTTGACAGCCGCCTAGCATTTCATCACATGGCCCGAGAGCTGCATCCGGAGTACTTCAAGAACTGCTGACATCGAGCTTGCTACAAGGGACTTTCCGCTGGGGACTTTCCAGGGAGGCGTGGCCTGGGCGGGACTGGGGAGTGGCGAGCCCTCAGATCCTGCATATAAGCAGCTGCTTTTTGCCTGTACTGGGTCTCTCTGGTTAGACCAGATCTGAGCCTGGGAGCTCTCTGGCTAACTAGGGAACCCACTGCTTAAGCCTCAATAAAGCTTGCCTTGAGTGCTTCAAGTAGTGTGTGCCCGTCTGTTGTGTGACTCTGGTAACTAGAGATCCCTCAGACCCTTTTAGTCAGTGTGGAAAATCTCTAGCAGTGGCGCCCGAACAGGGACCTGAAAGCGAAAGGGAAACCAGAGGAGCTCTCTCGACGCAGGACTCGGCTTGCTGAAGCGCGCACGGCAAGAGGCGAGGGGCGGCGACTGGTGAGTACGCCAAAAATTTTGACTAGCGGAGGCTAGAAGGAGAGAGATGGGTGCGAGAGCGTCAGTATTAAGCGGGGGAGAATTAGATCGATGGGAAAAAATTCGGTTAAGGCCAGGGGGAAAGAAAAAATATAAATTAAAACATATAGTATGGGCAAGCAGGGAGCTAGAACGATTCGCAGTTAATCCTGGCCTGTTAGAAACATCAGAAGGCTGTAGACAAATACTGGGACAGCTACAACCATCCCTTCAGACAGGATCAGAAGAACTTAGATCATTATATAATACAGTAGCAACCCTCTATTGTGTGCATCAAAGGATAGAGATAAAAGACACCAAGGAAGCTTTAGACAAGATAGAGGAAGAGCAAAACAAAAGTAAGAAAAAAGCACAGCAAGCAGCAGCTGACACAGGACACAGCAATCAGGTCAGCCAAAATTACCCTATAGTGCAGAACATCCAGGGGCAAATGGTACATCAGGCCATATCACCTAGAACTTTAAATGCATGGGTAAAAGTAGTAGAAGAGAAGGCTTTCAGCCCAGAAGTGATACCCATGTTTTCAGCATTATCAGAAGGAGCCACCCCACAAGATTTAAACACCATGCTAAACACAGTGGGGGGACATCAAGCAGCCATGCAAATGTTAAAAGAGACCATCAATGAGGAAGCTGCAGAATGGGATAGAGTGCATCCAGTGCATGCAGGGCCTATTGCACCAGGCCAGATGAGAGAACCAAGGGGAAGTGACATAGCAGGAACTACTAGTACCCTTCAGGAACAAATAGGATGGATGACAAATAATCCACCTATCCCAGTAGGAGAAATTTATAAAAGATGGATAATCCTGGGATTAAATAAAATAGTAAGAATGTATAGCCCTACCAGCATTCTGGACATAAGACAAGGACCAAAGGAACCCTTTAGAGACTATGTAGACCGGTTCTATAAAACTCTAAGAGCCGAGCAAGCTTCACAGGAGGTAAAAAATTGGATGACAGAAACCTTGTTGGTCCAAAATGCGAACCCAGATTGTAAGACTATTTTAAAAGCATTGGGACCAGCGGCTACACTAGAAGAAATGATGACAGCATGTCAGGGAGTAGGAGGACCCGGCCATAAGGCAAGAGTTTTGGCTGAAGCAATGAGCCAAGTAACAAATTCAGCTACCATAATGATGCAGAGAGGCAATTTTAGGAACCAAAGAAAGATTGTTAAGTGTTTCAATTGTGGCAAAGAAGGGCACACAGCCAGAAATTGCAGGGCCCCTAGGAAAAAGGGCTGTTGGAAATGTGGAAAGGAAGGACACCAAATGAAAGATTGTACTGAGAGACAGGCTAATTTTTTAGGGAAGATCTGGCCTTCCTACAAGGGAAGGCCAGGGAATTTTCTTCAGAGCAGACCAGAGCCAACAGCCCCACCAGAAGAGAGCTTCAGGTCTGGGGTAGAGACAACAACTCCCCCTCAGAAGCAGGAGCCGATAGACAAGGAACTGTATCCTTTAACTTCCCTCAGGTCACTCTTTGGCAACGACCCCTCGTCACAATAAAGATAGGGGGGCAACTAAAGGAAGCTCTATTAGATACAGGAGCAGATGATACAGTATTAGAAGAAATGAGTTTGCCAGGAAGATGGAAACCAAAAATGATAGGGGGAATTGGAGGTTTTATCAAAGTAAGACAGTATGATCAGATACTCATAGAAATCTGTGGACATAAAGCTATAGGTACAGTATTAGTAGGACCTACACCTGTCAACATAATTGGAAGAAATCTGTTGACTCAGATTGGTTGCACTTTAAATTTTCCCATTAGCCCTATTGAGACTGTACCAGTAAAATTAAAGCCAGGAATGGATGGCCCAAAAGTTAAACAATGGCCATTGACAGAAGAAAAAATAAAAGCATTAGTAGAAATTTGTACAGAGATGGAAAAGGAAGGGAAAATTTCAAAAATTGGGCCTGAAAATCCATACAATACTCCAGTATTTGCCATAAAGAAAAAAGACAGTACTAAATGGAGAAAATTAGTAGATTTCAGAGAACTTAATAAGAGAACTCAAGACTTCTGGGAAGTTCAATTAGGAATACCACATCCCGCAGGGTTAAAAAAGAAAAAATCAGTAACAGTACTGGATGTGGGTGATGCATATTTTTCAGTTCCCTTAGATGAAGACTTCAGGAAGTATACTGCATTTACCATACCTAGTATAAACAATGAGACACCAGGGATTAGATATCAGTACAATGTGCTTCCACAGGGATGGAAAGGATCACCAGCAATATTCCAAAGTAGCATGACAAAAATCTTAGAGCCTTTTAGAAAACAAAATCCAGACATAGTTATCTATCAATACATGGATGATTTGTATGTAGGATCTGACTTAGAAATAGGGCAGCATAGAACAAAAATAGAGGAGCTGAGACAACATCTGTTGAGGTGGGGACTTACCACACCAGACAAAAAACATCAGAAAGAACCTCCATTCCTTTGGATGGGTTATGAACTCCATCCTGATAAATGGACAGTACAGCCTATAGTGCTGCCAGAAAAAGACAGCTGGACTGTCAATGACATACAGAAGTTAGTGGGGAAATTGAATTGGGCAAGTCAGATTTACCCAGGGATTAAAGTAAGGCAATTATGTAAACTCCTTAGAGGAACCAAAGCACTAACAGAAGTAATACCACTAACAGAAGAAGCAGAGCTAGAACTGGCAGAAAACAGAGAGATTCTAAAAGAACCAGTACATGGAGTGTATTATGACCCATCAAAAGACTTAATAGCAGAAATACAGAAGCAGGGGCAAGGCCAATGGACATATCAAATTTATCAAGAGCCATTTAAAAATCTGAAAACAGGAAAATATGCAAGAATGAGGGGTGCCCACACTAATGATGTAAAACAATTAACAGAGGCAGTGCAAAAAATAACCACAGAAAGCATAGTAATATGGGGAAAGACTCCTAAATTTAAACTGCCCATACAAAAGGAAACATGGGAAACATGGTGGACAGAGTATTGGCAAGCCACCTGGATTCCTGAGTGGGAGTTTGTTAATACCCCTCCCTTAGTGAAATTATGGTACCAGTTAGAGAAAGAACCCATAGTAGGAGCAGAAACCTTCTATGTAGATGGGGCAGCTAACAGGGAGACTAAATTAGGAAAAGCAGGATATGTTACTAATAGAGGAAGACAAAAAGTTGTCACCCTAACTGACACAACAAATCAGAAGACTGAGTTACAAGCAATTTATCTAGCTTTGCAGGATTCGGGATTAGAAGTAAACATAGTAACAGACTCACAATATGCATTAGGAATCATTCAAGCACAACCAGATCAAAGTGAATCAGAGTTAGTCAATCAAATAATAGAGCAGTTAATAAAAAAGGAAAAGGTCTATCTGGCATGGGTACCAGCACACAAAGGAATTGGAGGAAATGAACAAGTAGATAAATTAGTCAGTGCTGGAATCAGGAAAGTACTATTTTTAGATGGAATAGATAAGGCCCAAGATGAACATGAGAAATATCACAGTAATTGGAGAGCAATGGCTAGTGATTTTAACCTGCCACCTGTAGTAGCAAAAGAAATAGTAGCCAGCTGTGATAAATGTCAGCTAAAAGGAGAAGCCATGCATGGACAAGTAGACTGTAGTCCAGGAATATGGCAACTAGATTGTACACATTTAGAAGGAAAAGTTATCCTGGTAGCAGTTCATGTAGCCAGTGGATATATAGAAGCAGAAGTTATTCCAGCAGAAACAGGGCAGGAAACAGCATATTTTCTTTTAAAATTAGCAGGAAGATGGCCAGTAAAAACAATACATACTGACAATGGCAGCAATTTCACCGGTGCTACGGTTAGGGCCGCCTGTTGGTGGGCGGGAATCAAGCAGGAATTTGGAATTCCCTACAATCCCCAAAGTCAAGGAGTAGTAGAATCTATGAATAAAGAATTAAAGAAAATTATAGGACAGGTAAGAGATCAGGCTGAACATCTTAAGACAGCAGTACAAATGGCAGTATTCATCCACAATTTTAAAAGAAAAGGGGGGATTGGGGGGTACAGTGCAGGGGAAAGAATAGTAGACATAATAGCAACAGACATACAAACTAAAGAATTACAAAAACAAATTACAAAAATTCAAAATTTTCGGGTTTATTACAGGGACAGCAGAAATCCACTTTGGAAAGGACCAGCAAAGCTCCTCTGGAAAGGTGAAGGGGCAGTAGTAATACAAGATAATAGTGACATAAAAGTAGTGCCAAGAAGAAAAGCAAAGATCATTAGGGATTATGGAAAACAGATGGCAGGTGATGATTGTGTGGCAAGTAGACAGGATGAGGATTAGAACATGGAAAAGTTTAGTAAAACACCATATGTATGTTTCAGGGAAAGCTAGGGGATGGTTTTATAGACATCACTATGAAAGCCCTCATCCAAGAATAAGTTCAGAAGTACACATCCCACTAGGGGATGCTAGATTGGTAATAACAACATATTGGGGTCTGCATACAGGAGAAAGAGACTGGCATTTGGGTCAGGGAGTCTCCATAGAATGGAGGAAAAAGAGATATAGCACACAAGTAGACCCTGAACTAGCAGACCAACTAATTCATCTGTATTACTTTGACTGTTTTTCAGACTCTGCTATAAGAAAGGCCTTATTAGGACACATAGTTAGCCCTAGGTGTGAATATCAAGCAGGACATAACAAGGTAGGATCTCTACAATACTTGGCACTAGCAGCATTAATAACACCAAAAAAGATAAAGCCACCTTTGCCTAGTGTTACGAAACTGACAGAGGATAGATGGAACAAGCCCCAGAAGACCAAGGGCCACAGAGGGAGCCACACAATGAATGGACACTAGAGCTTTTAGAGGAGCTTAAGAATGAAGCTGTTAGACATTTTCCTAGGATTTGGCTCCATGGCTTAGGGCAACATATCTATGAAACTTATGGGGATACTTGGGCAGGAGTGGAAGCCATAATAAGAATTCTGCAACAACTGCTGTTTATCCATTTTCAGAATTGGGTGTCGACATAGCAGAATAGGCGTTACTCGACAGAGGAGAGCAAGAAATGGAGCCAGTAGATCCTAGACTAGAGCCCTGGAAGCATCCAGGAAGTCAGCCTAAAACTGCTTGTACCAATTGCTATTGTAAAAAGTGTTGCTTTCATTGCCAAGTTTGTTTCATAACAAAAGCCTTAGGCATCTCCTATGGCAGGAAGAAGCGGAGACAGCGACGAAGAGCTCATCAGAACAGTCAGACTCATCAAGCTTCTCTATCAAAGCAGTAAGTAGTACATGTAACGCAACCTATACCAATAGTAGCAATAGTAGCATTAGTAGTAGCAATAATAATAGCAATAGTTGTGTGGTCCATAGTAATCATAGAATATAGGAAAATATTAAGACAAAGAAAAATAGACAGGTTAATTGATAGACTAATAGAAAGAGCAGAAGACAGTGGCAATGAGAGTGAAGGAGAAATATCAGCACTTGTGGAGATGGGGGTGGAGATGGGGCACCATGCTCCTTGGGATGTTGATGATCTGTAGTGCTACAGAAAAATTGTGGGTCACAGTCTATTATGGGGTACCTGTGTGGAAGGAAGCAACCACCACTCTATTTTGTGCATCAGATGCTAAAGCATATGATACAGAGGTACATAATGTTTGGGCCACACATGCCTGTGTACCCACAGACCCCAACCCACAAGAAGTAGTATTGGTAAATGTGACAGAAAATTTTAACATGTGGAAAAATGACATGGTAGAACAGATGCATGAGGATATAATCAGTTTATGGGATCAAAGCCTAAAGCCATGTGTAAAATTAACCCCACTCTGTGTTAGTTTAAAGTGCACTGATTTGAAGAATGATACTAATACCAATAGTAGTAGCGGGAGAATGATAATGGAGAAAGGAGAGATAAAAAACTGCTCTTTCAATATCAGCACAAGCATAAGAGGTAAGGTGCAGAAAGAATATGCATTTTTTTATAAACTTGATATAATACCAATAGATAATGATACTACCAGCTATAAGTTGACAAGTTGTAACACCTCAGTCATTACACAGGCCTGTCCAAAGGTATCCTTTGAGCCAATTCCCATACATTATTGTGCCCCGGCTGGTTTTGCGATTCTAAAATGTAATAATAAGACGTTCAATGGAACAGGACCATGTACAAATGTCAGCACAGTACAATGTACACATGGAATTAGGCCAGTAGTATCAACTCAACTGCTGTTAAATGGCAGTCTAGCAGAAGAAGAGGTAGTAATTAGATCTGTCAATTTCACGGACAATGCTAAAACCATAATAGTACAGCTGAACACATCTGTAGAAATTAATTGTACAAGACCCAACAACAATACAAGAAAAAGAATCCGTATCCAGAGAGGACCAGGGAGAGCATTTGTTACAATAGGAAAAATAGGAAATATGAGACAAGCACATTGTAACATTAGTAGAGCAAAATGGAATAACACTTTAAAACAGATAGCTAGCAAATTAAGAGAACAATTTGGAAATAATAAAACAATAATCTTTAAGCAATCCTCAGGAGGGGACCCAGAAATTGTAACGCACAGTTTTAATTGTGGAGGGGAATTTTTCTACTGTAATTCAACACAACTGTTTAATAGTACTTGGTTTAATAGTACTTGGAGTACTGAAGGGTCAAATAACACTGAAGGAAGTGACACAATCACCCTCCCATGCAGAATAAAACAAATTATAAACATGTGGCAGAAAGTAGGAAAAGCAATGTATGCCCCTCCCATCAGTGGACAAATTAGATGTTCATCAAATATTACAGGGCTGCTATTAACAAGAGATGGTGGTAATAGCAACAATGAGTCCGAGATCTTCAGACCTGGAGGAGGAGATATGAGGGACAATTGGAGAAGTGAATTATATAAATATAAAGTAGTAAAAATTGAACCATTAGGAGTAGCACCCACCAAGGCAAAGAGAAGAGTGGTGCAGAGAGAAAAAAGAGCAGTGGGAATAGGAGCTTTGTTCCTTGGGTTCTTGGGAGCAGCAGGAAGCACTATGGGCGCAGCCTCAATGACGCTGACGGTACAGGCCAGACAATTATTGTCTGGTATAGTGCAGCAGCAGAACAATTTGCTGAGGGCTATTGAGGCGCAACAGCATCTGTTGCAACTCACAGTCTGGGGCATCAAGCAGCTCCAGGCAAGAATCCTGGCTGTGGAAAGATACCTAAAGGATCAACAGCTCCTGGGGATTTGGGGTTGCTCTGGAAAACTCATTTGCACCACTGCTGTGCCTTGGAATGCTAGTTGGAGTAATAAATCTCTGGAACAGATTTGGAATCACACGACCTGGATGGAGTGGGACAGAGAAATTAACAATTACACAAGCTTAATACACTCCTTAATTGAAGAATCGCAAAACCAGCAAGAAAAGAATGAACAAGAATTATTGGAATTAGATAAATGGGCAAGTTTGTGGAATTGGTTTAACATAACAAATTGGCTGTGGTATATAAAATTATTCATAATGATAGTAGGAGGCTTGGTAGGTTTAAGAATAGTTTTTGCTGTACTTTCTATAGTGAATAGAGTTAGGCAGGGATATTCACCATTATCGTTTCAGACCCACCTCCCAACCCCGAGGGGACCCGACAGGCCCGAAGGAATAGAAGAAGAAGGTGGAGAGAGAGACAGAGACAGATCCATTCGATTAGTGAACGGATCCTTGGCACTTATCTGGGACGATCTGCGGAGCCTGTGCCTCTTCAGCTACCACCGCTTGAGAGACTTACTCTTGATTGTAACGAGGATTGTGGAACTTCTGGGACGCAGGGGGTGGGAAGCCCTCAAATATTGGTGGAATCTCCTACAGTATTGGAGTCAGGAACTAAAGAATAGTGCTGTTAGCTTGCTCAATGCCACAGCCATAGCAGTAGCTGAGGGGACAGATAGGGTTATAGAAGTAGTACAAGGAGCTTGTAGAGCTATTCGCCACATACCTAGAAGAATAAGACAGGGCTTGGAAAGGATTTTGCTATAAGATGGGTGGCAAGTGGTCAAAAAGTAGTGTGATTGGATGGCCTACTGTAAGGGAAAGAATGAGACGAGCTGAGCCAGCAGCAGATAGGGTGGGAGCAGCATCTCGAGACCTGGAAAAACATGGAGCAATCACAAGTAGCAATACAGCAGCTACCAATGCTGCTTGTGCCTGGCTAGAAGCACAAGAGGAGGAGGAGGTGGGTTTTCCAGTCACACCTCAGGTACCTTTAAGACCAATGACTTACAAGGCAGCTGTAGATCTTAGCCACTTTTTAAAAGAAAAGGGGGGACTGGAAGGGCTAATTCACTCCCAAAGAAGACAAGATATCCTTGATCTGTGGATCTACCACACACAAGGCTACTTCCCTGATTAGCAGAACTACACACCAGGGCCAGGGGTCAGATATCCACTGACCTTTGGATGGTGCTACAAGCTAGTACCAGTTGAGCCAGATAAGATAGAAGAGGCCAATAAAGGAGAGAACACCAGCTTGTTACACCCTGTGAGCCTGCATGGGATGGATGACCCGGAGAGAGAAGTGTTAGAGTGGAGGTTTGACAGCCGCCTAGCATTTCATCACGTGGCCCGAGAGCTGCATCCGGAGTACTTCAAGAACTGCTGACATCGAGCTTGCTACAAGGGACTTTCCGCTGGGGACTTTCCAGGGAGGCGTGGCCTGGGCGGGACTGGGGAGTGGCGAGCCCTCAGATCCTGCATATAAGCAGCTGCTTTTTGCCTGTACTGGGTCTCTCTGGTTAGACCAGATCTGAGCCTGGGAGCTCTCTGGCTAACTAGGGAACCCACTGCTTAAGCCTCAATAAAGCTTGCCTTGAGTGCTTCAAGTAGTGTGTGCCCGTCTGTTGTGTGACTCTGGTAACTAGAGATCCCTCAGACCCTTTTAGTCAGTGTGGAAAATCTCTAGCA'\n",
    "\n",
    "### Complete the following ###\n",
    "p_mutation = \n",
    "\n",
    "print(f'The mutation probability per cycle is: {p_mutation*100:.2f}%')\n"
   ]
  },
  {
   "cell_type": "markdown",
   "id": "a683cdf9-c84f-40a2-84ca-e0a462ad478c",
   "metadata": {},
   "source": [
    "In our coin-flip example, we used a random number to decide the outcome. Similarly, the `random.choice` function can be used to select outcomes based on specified probabilities. `choice` takes two parameters:\n",
    "1. List of possible outcomes (e.g., `[\"rock\", \"paper\", \"scissors\"]`)\n",
    "2. Likelihood of each outcome (e.g., `[1/3, 1/3, 1/3]`)"
   ]
  },
  {
   "cell_type": "code",
   "execution_count": 85,
   "id": "ab723c51-0208-4909-aea5-b0ca9cf99be6",
   "metadata": {},
   "outputs": [
    {
     "name": "stdout",
     "output_type": "stream",
     "text": [
      "My coin flip is: Heads\n"
     ]
    }
   ],
   "source": [
    "# List of possible outcomes\n",
    "coin_state = ['Heads', 'Tails']\n",
    "\n",
    "# Likelihood of each outcome\n",
    "coin_probabilities = [1/2, 1/2]  # the sum has to be 1\n",
    "\n",
    "# choice picks an outcome based on the likilihood you defined above\n",
    "flip = random.choice(coin_state, p = coin_probabilities)\n",
    "\n",
    "print(f'My coin flip is: {flip}')"
   ]
  },
  {
   "cell_type": "markdown",
   "id": "9d2d5e43-b675-4ae7-8af8-5efca8853acc",
   "metadata": {},
   "source": [
    "Run the code again and see \"Heads\" and \"Tails\" appear with nearly equal probability. Feel free to adjust the probabilities to check it changes the liklihood of outcomes. Note that choice is taking the probabilities by `p = `. This explicitly tells Python how to weigh each outcome.\n",
    "\n",
    "Now, apply `random.choice` to determine if a mutation would occur given the probability `p_mutation`:"
   ]
  },
  {
   "cell_type": "code",
   "execution_count": 132,
   "id": "17c09e8a-3f22-4c89-ae19-f0e45cb3061d",
   "metadata": {},
   "outputs": [
    {
     "name": "stdout",
     "output_type": "stream",
     "text": [
      "The mutation outcome is: REPLACE HERE\n"
     ]
    }
   ],
   "source": [
    "### Complete the following ###\n",
    "\n",
    "# Define the possible outcomes (mutation or no_mutation)\n",
    "\n",
    "\n",
    "# Set the likelihood of each outcome (hint: they must sum to 1)\n",
    "\n",
    "\n",
    "# Pick an outcome using random.choice\n",
    "mutation_outcome = 'REPLACE HERE'\n",
    "\n",
    "print(f'The mutation outcome is: {mutation_outcome}')"
   ]
  },
  {
   "cell_type": "markdown",
   "id": "ff0c17e2-8506-4675-9846-ea436e38391d",
   "metadata": {},
   "source": [
    "## 2. Select which nucleotide in the genome will mutate\n",
    "\n",
    "If a mutation happens, we need to decide where in the genome it will take place. Use `random.randint()` to select a random position within the genome sequence where the mutation will occur."
   ]
  },
  {
   "cell_type": "code",
   "execution_count": null,
   "id": "9a367616-38ce-4e78-a8ec-364ea3b21edc",
   "metadata": {},
   "outputs": [],
   "source": [
    "### Complete the following ###\n",
    "\n",
    "# Randomly pick a position of the genome where the nucleotide gets mutated\n",
    "position = \n",
    "\n",
    "# Print out the nucleotide at the position\n",
    "original_nucleotide = \n"
   ]
  },
  {
   "cell_type": "markdown",
   "id": "97bcd120-d26f-4576-bceb-2a713d3e26c7",
   "metadata": {},
   "source": [
    "## 3. Choose a new nucleotide to replace the original\n",
    "\n",
    "Not all mutations are equally likely; some changes happen more often than others. \n",
    "\n",
    "First, we need to define the probabilities of each mutation based on the original nucleotide. For example, if the original nucleotide is `A`, the probabilities for it changing to `C`, `G`, or `T`. Here’s how you might set up these probabilities, based on the table above:"
   ]
  },
  {
   "cell_type": "code",
   "execution_count": 136,
   "id": "5195d741-d845-489d-8238-33ad8be76dd5",
   "metadata": {},
   "outputs": [
    {
     "name": "stdout",
     "output_type": "stream",
     "text": [
      "G\n"
     ]
    }
   ],
   "source": [
    "# Probabilities of mutation from A to other nucleotides\n",
    "possible_nucelotides = ['C', 'G', 'T']\n",
    "mutation_probabilities_A = [1/33, 29/33, 3/33]  # Probabilities for changing to C, G, and T respectively\n",
    "\n",
    "# Select a new nucleotide based on the probabilities\n",
    "new_nucleotide = random.choice(possible_nucelotides, p = mutation_probabilities_A)\n",
    "print(new_nucleotide)"
   ]
  },
  {
   "cell_type": "markdown",
   "id": "e0e71e62-39b3-4ab4-9df0-bb7981b89864",
   "metadata": {},
   "source": [
    "Run the cell above a few times to observe how often each nucleotide is chosen, and you'll notice that G is chosen most frequently, reflecting its higher relative probability.\n",
    "\n",
    "Now using the code above and the table, complete the following block that chooses a new nucleotide based on the original nucleotide:"
   ]
  },
  {
   "cell_type": "code",
   "execution_count": null,
   "id": "b2b0294f-ae7a-4677-99b3-cd38e61db838",
   "metadata": {},
   "outputs": [],
   "source": [
    "### Complete the following if statement ###\n",
    "original_nucleotide = 'G' \n",
    "\n",
    "if original_nucleotide == 'A':\n",
    "    possible_nucelotides = ['C', 'G', 'T']\n",
    "    mutation_probabilities_A = [1/33, 29/33, 3/33]\n",
    "    new_nucleotide = random.choice(possible_nucelotides, p = mutation_probabilities_A)\n",
    "    \n",
    "elif original_nucleotide == 'C':\n",
    "    # your code\n",
    "    \n",
    "elif original_nucleotide == 'G':\n",
    "    # your code\n",
    "    \n",
    "elif original_nucleotide == 'T':\n",
    "    # your code\n",
    "\n",
    "print(f'{original_nucleotide} -> {new_nucleotide}')"
   ]
  },
  {
   "cell_type": "markdown",
   "id": "19f8a784-2ee5-4660-a722-4467821a67d0",
   "metadata": {},
   "source": [
    "We can reflect a mutation by modifiying a specific nucleotide at a designated position in the sequence. Just to remind us how to modify one character at a specified position, mutate the T in the middle to `G`:"
   ]
  },
  {
   "cell_type": "code",
   "execution_count": 138,
   "id": "2e4806d4-a793-41bc-969e-5b82ebb742c3",
   "metadata": {},
   "outputs": [
    {
     "name": "stdout",
     "output_type": "stream",
     "text": [
      "Before replacement: AAABBBCCC\n",
      "After replacement:  AAABXBCCC\n"
     ]
    }
   ],
   "source": [
    "my_sequence = 'AAATTTGGGCCC'\n",
    "\n",
    "print(f'Before replacement: {my_sequence}')\n",
    "\n",
    "position = \n",
    "my_sequence = \n",
    "\n",
    "print(f'After replacement:  {my_sequence}')"
   ]
  },
  {
   "cell_type": "markdown",
   "id": "78840fa4-e475-4962-8022-823c07139fc1",
   "metadata": {},
   "source": [
    "## 4. Repeat 1-3 for 50 times (replication cycles)\n",
    "\n",
    "Now that we have written code for one cycle, let's simulate what would happen if the genome goes through 50 replication cycles. \n",
    "\n",
    "To specify the number of iterations in a loop, we can use a special funcition `range` like this:"
   ]
  },
  {
   "cell_type": "code",
   "execution_count": 137,
   "id": "05dca711-9aab-4d51-b6c7-1f1b35126128",
   "metadata": {},
   "outputs": [
    {
     "name": "stdout",
     "output_type": "stream",
     "text": [
      "0\n",
      "1\n",
      "2\n",
      "3\n",
      "4\n"
     ]
    }
   ],
   "source": [
    "for counter in range(5):\n",
    "    print(counter)"
   ]
  },
  {
   "cell_type": "markdown",
   "id": "f6404197-635e-4401-9d81-782b89f37e4f",
   "metadata": {},
   "source": [
    "Using a for loop and code we have written above, simulate the replication cycle for 50 times\n",
    "\n",
    "In each iteration, your code should:\n",
    "1. Randomly decide if a mutation occurs in a replication cycle based on a given mutation probability.\n",
    "2. Randomly select which nucleotide in the genome will mutate.\n",
    "3. Choose a new nucleotide to replace the original, ensuring it's a different nucleotide to represent an actual change."
   ]
  },
  {
   "cell_type": "code",
   "execution_count": null,
   "id": "3f13567b-fb03-47fe-8b5a-c381d13fc63a",
   "metadata": {},
   "outputs": [],
   "source": [
    "### Write your code here ###\n",
    "\n",
    "for cycle in range(50):\n",
    "    # Your code for mutation here\n",
    "\n",
    "\n",
    "\n",
    "\n",
    "\n",
    "\n",
    "\n",
    "\n",
    "\n"
   ]
  }
 ],
 "metadata": {
  "kernelspec": {
   "display_name": "Python 3 (ipykernel)",
   "language": "python",
   "name": "python3"
  },
  "language_info": {
   "codemirror_mode": {
    "name": "ipython",
    "version": 3
   },
   "file_extension": ".py",
   "mimetype": "text/x-python",
   "name": "python",
   "nbconvert_exporter": "python",
   "pygments_lexer": "ipython3",
   "version": "3.11.5"
  }
 },
 "nbformat": 4,
 "nbformat_minor": 5
}
