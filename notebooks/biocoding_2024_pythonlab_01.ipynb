{
 "cells": [
  {
   "cell_type": "markdown",
   "metadata": {},
   "source": [
    "# Lesson 1: Hello World "
   ]
  },
  {
   "cell_type": "markdown",
   "metadata": {},
   "source": [
    "We will start with basics of Python using this Jupyter notebook. Although there are several other ways to use Python (e.g., at the \"terminal\" on your computer or on an IDE such as PyCharm or VSCode), Jupyter notebook is a great way to play with Python for its interactive functionality."
   ]
  },
  {
   "cell_type": "code",
   "execution_count": null,
   "metadata": {},
   "outputs": [],
   "source": [
    "print(\"Hello World\")"
   ]
  },
  {
   "cell_type": "markdown",
   "metadata": {},
   "source": [
    "## Exercise 1: Use print functions"
   ]
  },
  {
   "cell_type": "markdown",
   "metadata": {},
   "source": [
    "As you may notice in the code block above, a Python keyword `print` is highlighted in a color. We call `print` a key word because this word has special meaning in Python, which is to print out the specifiled message to the screen. Python is considered as one of the best languages for new programmers to learn because it is much more intuitive than other programming languages. In the [C language](https://en.wikipedia.org/wiki/C_%28programming_language%29) for example, just printing 'Hello World' requires a few lines of code like this:\n",
    "\n",
    "```\n",
    "#include <stdio.h>\n",
    "\n",
    "int main()\n",
    "{\n",
    "    printf(\"Hello World\");\n",
    "    return 0;\n",
    "}\n",
    "```\n",
    "\n",
    "Hopefully you can start seeing why Python is conisdered simpler! In the following exercises, we are going to see some of the Python rules we have to follow.\n"
   ]
  },
  {
   "cell_type": "markdown",
   "metadata": {},
   "source": [
    "In the following cells, try out these quetions!\n",
    "* Does capitalization matter? (e.g., `print(\"Hello World\")` vs. `print(\"hello world\")`)\n",
    "* Do single quotes `'` or double quotes `\"` matter? (e.g., `print(\"Double quotes\")` vs. `print('Single quotes')`)\n",
    "* Does spacing matter? (e.g., `print(\"NOSPACE\")` vs. `print(\"  S PAC  E  \")`"
   ]
  },
  {
   "cell_type": "code",
   "execution_count": null,
   "metadata": {},
   "outputs": [],
   "source": [
    "### Make some letters capitalize ###\n"
   ]
  },
  {
   "cell_type": "code",
   "execution_count": null,
   "metadata": {},
   "outputs": [],
   "source": [
    "### Use single quotes and double quotes ###\n"
   ]
  },
  {
   "cell_type": "code",
   "execution_count": null,
   "metadata": {},
   "outputs": [],
   "source": [
    "### Use different spacing ###\n"
   ]
  },
  {
   "cell_type": "markdown",
   "metadata": {},
   "source": [
    "## Exercise 2: Doing math\n",
    "Another useful feature of Python is doing math for us!!"
   ]
  },
  {
   "cell_type": "code",
   "execution_count": null,
   "metadata": {},
   "outputs": [],
   "source": [
    "2 + 8"
   ]
  },
  {
   "cell_type": "markdown",
   "metadata": {},
   "source": [
    "You can use any of several math operators:\n",
    "\n",
    "|Syntax|Math|\n",
    "|------|----|\n",
    "|a+b|addition|\n",
    "|a-b|subtraction|\n",
    "|a\\*b|multiplication|\n",
    "|a/b|division|\n",
    "|( )|Parenthesis - think PEMDAS|\n",
    "|a\\*\\*b|exponentiation|\n",
    "\n",
    "There are a few other special math functions - see [Python basic math](https://en.wikibooks.org/wiki/Python_Programming/Basic_Math)\n",
    "\n",
    "Try some of the math functions below:"
   ]
  },
  {
   "cell_type": "code",
   "execution_count": null,
   "metadata": {},
   "outputs": [],
   "source": [
    "### Do some subtraction ###\n"
   ]
  },
  {
   "cell_type": "code",
   "execution_count": null,
   "metadata": {},
   "outputs": [],
   "source": [
    "### Do some division ###\n"
   ]
  },
  {
   "cell_type": "code",
   "execution_count": null,
   "metadata": {},
   "outputs": [],
   "source": [
    "### Use some parenthesis ###\n"
   ]
  },
  {
   "cell_type": "markdown",
   "metadata": {},
   "source": [
    "****"
   ]
  },
  {
   "cell_type": "markdown",
   "metadata": {},
   "source": [
    "# Lesson 2: Variables "
   ]
  },
  {
   "cell_type": "markdown",
   "metadata": {},
   "source": [
    "**Variables** are essential in programming because they allow us to **store information** that we can use later in our program. Think of a variable as a box storing a value, which you can call upon by name to see or manipulate the value it holds.\n",
    "\n",
    "In Python, we can use the `=` operator to create a variable and assign a value to it. \\\n",
    "Let's create some variables with different types of data!"
   ]
  },
  {
   "cell_type": "code",
   "execution_count": null,
   "metadata": {},
   "outputs": [],
   "source": [
    "age = 16  # An integer\n",
    "temperature = 36.6  # A floating-point number\n",
    "name = \"Alex\"  # A string text\n",
    "is_student = True  # A boolean (True/False)"
   ]
  },
  {
   "cell_type": "markdown",
   "metadata": {},
   "source": [
    "In the variables above, we assigned different types of data. Python has several built-in data types, and the most common ones you'll encounter are:\n",
    "\n",
    "- **Integers** (`int`): Whole numbers without a decimal point, such as 1, 20, or -5.\n",
    "- **Floating-point numbers** (`float`): Numbers with a decimal point, such as 3.14 or 0.001.\n",
    "- **Strings** (`str`): Sequences of characters, typically used to represent text. Enclosed in quotes.\n",
    "- **Booleans** (`bool`): Represents `True` or `False` and is often used in conditions to control the flow of the program.\n",
    "\n",
    "Let's use `int` and `float` variables to do math!"
   ]
  },
  {
   "cell_type": "code",
   "execution_count": null,
   "metadata": {},
   "outputs": [],
   "source": [
    "### Change the values below and see how it affects the output ###\n",
    "a = 3\n",
    "b = 4\n",
    "\n",
    "a_squared = a**2\n",
    "a_squared_plus_b_squared = a_squared + b**2\n",
    "\n",
    "print(a_squared)\n",
    "print(a_squared_plus_b_squared)"
   ]
  },
  {
   "cell_type": "markdown",
   "metadata": {},
   "source": [
    "**Challenge**: Solve this problem using Python!\n",
    "\n",
    "How much 5M NaCL do you need to make 1.5L of 2M NaCl?\n",
    "\n",
    "<details> \n",
    "  <summary>Hint 1</summary>\n",
    "  \n",
    "   *hint1*: Concentration<sub>1</sub> * Volume<sub>1</sub> = Concentration<sub>2</sub> * Volume<sub>2</sub>\n",
    "</details>\n",
    "\n",
    "<details>\n",
    "  <summary>Hint 2</summary>  \n",
    "    \n",
    "   *hint2*: Solve for Volume<sub>1</sub>\n",
    "</details>"
   ]
  },
  {
   "cell_type": "code",
   "execution_count": null,
   "metadata": {},
   "outputs": [],
   "source": [
    "### Assign values to the given variables ### \n",
    "\n",
    "# Molar\n",
    "initial_concentration = \n",
    "final_concentration = \n",
    "\n",
    "# Liter\n",
    "final_volume = \n",
    "\n",
    "### Solve for starting volume using variables ###\n",
    "initial_volume = \n",
    "\n",
    "# Print the answer\n",
    "print(f\"You need {initial_volume} litters of NaCl\")"
   ]
  },
  {
   "cell_type": "markdown",
   "metadata": {},
   "source": [
    "## String variables"
   ]
  },
  {
   "cell_type": "markdown",
   "metadata": {},
   "source": [
    "Besides numbers, variables can store sequence of characters, referred to as \"**strings**\". "
   ]
  },
  {
   "cell_type": "code",
   "execution_count": null,
   "metadata": {},
   "outputs": [],
   "source": [
    "my_string = \"Hello World\"\n",
    "print(my_string)"
   ]
  },
  {
   "cell_type": "markdown",
   "metadata": {},
   "source": [
    "If you want to print variables with other strings, you can use\n",
    "1. commas in-between strings and variables, or\n",
    "2. put `f` right before the first quote and surround variables with `{}` (called f-strings)\n",
    "\n",
    "Examples:\n",
    "```\n",
    "my_age = 10\n",
    "print(\"I am \", my_age, \"years old\")  # (1)\n",
    "print(f\"I am {my_age} years old\")  # (2)\n",
    "```\n",
    "Either print statement outputs `I am 10 years old`"
   ]
  },
  {
   "cell_type": "code",
   "execution_count": null,
   "metadata": {},
   "outputs": [],
   "source": [
    "### Create variables before the print statements ###\n",
    "my_name = \n",
    "\n",
    "\n",
    "print(f\"My name is: {my_name}\")\n",
    "print(f\"My favorite food is: {my_fav_food}\")\n",
    "print(f\"The hobby I spend most of my time is: {my_hobby}\")\n",
    "print(f\"If I wasn't here, I'd probably be: {my_somewhere_else}\")\n",
    "print(f'If I wasn\\'t using single quotes, I\\'d be using double quotes.')\n",
    "\n",
    "# tip: when you want to use a single quote inside of a print statement with single quotes,\n",
    "# we use the escape character \\ to tell Python that the quote mark doesn't represent the end of a string"
   ]
  },
  {
   "cell_type": "markdown",
   "metadata": {},
   "source": [
    "You can concatenate strings with `+`:"
   ]
  },
  {
   "cell_type": "code",
   "execution_count": null,
   "metadata": {},
   "outputs": [],
   "source": [
    "first_string = \"FIRST\"\n",
    "second_string = \"SECOND\"\n",
    "print(first_string + second_string)\n",
    "print(first_string + \" \" + second_string)"
   ]
  },
  {
   "cell_type": "markdown",
   "metadata": {},
   "source": [
    "You can also do math with strings! What do you think will happen if you run the following code?"
   ]
  },
  {
   "cell_type": "code",
   "execution_count": null,
   "metadata": {},
   "outputs": [],
   "source": [
    "my_string = \"Hello world \"\n",
    "print(my_string * 10)"
   ]
  },
  {
   "cell_type": "code",
   "execution_count": null,
   "metadata": {},
   "outputs": [],
   "source": [
    "### Want to try something else? Keep going! ###\n",
    "\n",
    "\n",
    "\n",
    "\n",
    "\n",
    "\n"
   ]
  }
 ],
 "metadata": {
  "kernelspec": {
   "display_name": "Python 3 (ipykernel)",
   "language": "python",
   "name": "python3"
  },
  "language_info": {
   "codemirror_mode": {
    "name": "ipython",
    "version": 3
   },
   "file_extension": ".py",
   "mimetype": "text/x-python",
   "name": "python",
   "nbconvert_exporter": "python",
   "pygments_lexer": "ipython3",
   "version": "3.11.5"
  }
 },
 "nbformat": 4,
 "nbformat_minor": 4
}
