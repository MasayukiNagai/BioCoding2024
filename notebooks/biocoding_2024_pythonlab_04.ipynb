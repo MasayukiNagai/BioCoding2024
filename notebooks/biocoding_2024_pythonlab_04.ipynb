{
 "cells": [
  {
   "cell_type": "markdown",
   "id": "2fc7b768-b2f0-416e-9c2f-841be345ff7a",
   "metadata": {},
   "source": [
    "# Review lists and loops\n",
    "\n",
    "In the previous notebook, we explored how to work with lists, use loops, and make decisions with if-statements. Let’s review those skills to the test by diving into a hands-on challenge! Below, you’ll find a code snippet designed to construct a random DNA sequence of 100 base pairs, starting with the initial codon ATG.\n",
    "\n",
    "Your Tasks:\n",
    "* Identify and correct any errors in the code\n",
    "* Add comments to explain what is going on line-by-line"
   ]
  },
  {
   "cell_type": "code",
   "execution_count": null,
   "id": "56ca3bfa-beb1-44b1-a7b5-76cebe58bcd3",
   "metadata": {},
   "outputs": [],
   "source": [
    "from numpy import random\n",
    "\n",
    "my_sequence = 'ATG'\n",
    "final_sequence_length = \"one hundred\"\n",
    "nucleotides = [A, T, G, C]\n",
    "nucleotides_probs = [1/2, 1/3, 1/4, 1/5]\n",
    "\n",
    "while length_of_my_sequence < final_sequence_length:\n",
    "next_nucleotide = random.choice(nucleotides, p = nucleotides_probabilities)\n",
    "my_sequence = my_sequence + next_nucleotide\n",
    "\n",
    "if the_last_three_nucleotides_of_my_sequence == 'TAA'\n",
    "print(\"My DNA sequence ends with a stop codon\")\n",
    "elif the_last_three_nucleotides_of_my_sequence == 'TAG'\n",
    "print(\"My DNA sequence ends with a stop codon\")\n",
    "elif  the_last_three_nucleotides_of_my_sequence == 'TGA'\n",
    "print(\"My DNA sequence ends with a stop codon\")\n",
    "otherwise\n",
    "print(\"My DNA sequence does NOT end with a stop codon\")\n",
    "\n",
    "print(f'>random_sequence (length: {len(my_sequence)})\\n{my_sequence}')"
   ]
  },
  {
   "cell_type": "markdown",
   "id": "2d865b35-1f8d-41f2-8ea9-8eeb6272c240",
   "metadata": {},
   "source": [
    "****"
   ]
  },
  {
   "cell_type": "markdown",
   "id": "5139d495-0f49-4e4d-bf57-ef80b8aa8141",
   "metadata": {},
   "source": [
    "# Dictionaries\n",
    "\n",
    "One way to store a collection of items in a variable was to use a `list`. Now we are going to learn a new data type which is very important for data structures in Python, called `dictionary (dict)`!\n",
    "\n",
    "A dictionary in Python is a collection of key-value pairs. Each key is connected to a value, and you can use the key to access the value associated with it. Dictionaries are incredibly useful for storing data that can be easily retrieved by a unique identifier, much like looking up a word in a dictionary to find its definition.\n",
    "\n",
    "Dictionaries are enclosed in curly braces `{}` with each item being a pair in the form `key: value`. Here's how we can create and use dictionaries:"
   ]
  },
  {
   "cell_type": "code",
   "execution_count": null,
   "id": "7d031670-13fe-44e6-a937-8de56647704d",
   "metadata": {},
   "outputs": [],
   "source": [
    "my_dictionary = {}\n",
    "print(type(my_dictionary))"
   ]
  },
  {
   "cell_type": "markdown",
   "id": "b717887e-c022-4c7e-ac49-e942c89de908",
   "metadata": {},
   "source": [
    "Dictionaries have some properties in common with lists and strings with some key differences:\n",
    "\n",
    "* iterable\n",
    "* **un**ordered\n",
    "* indexed (by keys)\n",
    "\n",
    "Suppose we want to make a dicionary that helps you retrieve the number of mice per group \n",
    "\n",
    "|Group|Number of Mice|Average Mass(g)|Group Id|\n",
    "|-----|--------------|---------------|--------|\n",
    "|alpha|3|17.0|CGJ28371|\n",
    "|beta|5|16.4|SJW99399|\n",
    "|gamma|6|17.8|PWS29382|\n"
   ]
  },
  {
   "cell_type": "code",
   "execution_count": null,
   "id": "73f5aeae-588b-46db-b0cb-f698661b4904",
   "metadata": {},
   "outputs": [],
   "source": [
    "group_to_num_mouse = {'alpha': 3,\n",
    "                      'beta': 5}\n",
    "\n",
    "print(group_to_num_mouse)"
   ]
  },
  {
   "cell_type": "markdown",
   "id": "6332d066-f7a0-4657-9b70-5c716d03ea23",
   "metadata": {},
   "source": [
    "You can also add a new key-value pair to an existing dictionary"
   ]
  },
  {
   "cell_type": "code",
   "execution_count": null,
   "id": "d3dc33a9-387e-4089-9264-a0265619f77e",
   "metadata": {},
   "outputs": [],
   "source": [
    "group_to_num_mouse['gamma'] = 6\n",
    "print(group_to_num_mouse)"
   ]
  },
  {
   "cell_type": "markdown",
   "id": "1ebeaaa1-4fb3-47ac-a3d3-9d604407efac",
   "metadata": {},
   "source": [
    "One important property of a dictionary is that you can call entries explicitly (rather than referencing indicies like 0, 1, or 2). Here is the general structure of a dictionary object: `dictionary = {key: value}`.\n",
    "\n",
    "You can call a specific value stored in a dictionary by giving its key:"
   ]
  },
  {
   "cell_type": "code",
   "execution_count": null,
   "id": "65bd0079-cded-4de8-a44f-c07c2cca9746",
   "metadata": {},
   "outputs": [],
   "source": [
    "group_to_num_mouse['beta']"
   ]
  },
  {
   "cell_type": "markdown",
   "id": "2f65f2b2-3da8-4243-a8ed-83d3efd252f6",
   "metadata": {},
   "source": [
    "You can also see a list of keys in a dictionary by:"
   ]
  },
  {
   "cell_type": "code",
   "execution_count": null,
   "id": "a8630429-3e21-4686-831d-830c1914d84a",
   "metadata": {},
   "outputs": [],
   "source": [
    "group_to_num_mouse.keys()"
   ]
  },
  {
   "cell_type": "markdown",
   "id": "baa86688-7f15-4dd4-86c5-2403e4e2c730",
   "metadata": {},
   "source": [
    "You can also check all the values in a dictionary by:"
   ]
  },
  {
   "cell_type": "code",
   "execution_count": null,
   "id": "6031e617-c1b9-44be-b0d8-a4d4432eac74",
   "metadata": {},
   "outputs": [],
   "source": [
    "group_to_num_mouse.values()"
   ]
  },
  {
   "cell_type": "markdown",
   "id": "4393d5d6-2103-45c6-8078-f87793fd32d0",
   "metadata": {},
   "source": [
    "**Challenge**: Create a dicionary where keys are `Group Id` and values are `Average Mass`"
   ]
  },
  {
   "cell_type": "code",
   "execution_count": null,
   "id": "8e121308-5973-45ce-b732-4cb54c6bdd3b",
   "metadata": {},
   "outputs": [],
   "source": [
    "### Write your code here ###\n",
    "\n",
    "\n"
   ]
  },
  {
   "cell_type": "markdown",
   "id": "bca796cc-3c65-4eb0-a427-bc2c3aa2f793",
   "metadata": {},
   "source": [
    "****"
   ]
  },
  {
   "attachments": {},
   "cell_type": "markdown",
   "id": "523b75c9-098f-4140-97c8-e802ef8c7f49",
   "metadata": {},
   "source": [
    "## Translating RNA to Protein\n",
    "\n",
    "In translation, the sequence of nucleotides in messenger RNA (mRNA) is translated into a sequence of amino acids, which come together to form a protein. During this process, cells read the mRNA nucleotides in groups of three, known as codons. The specific associations between these codons and their corresponding amino acids are defined by the genetic code, as outlined in the table below:\n",
    "\n",
    "![from: http://scienceblogs.com/digitalbio/wp-content/blogs.dir/460/files/2012/04/i-39185d84268023fb77b43bbf9dba06c7-standard%20genetic%20code.png](img/rna_protein_code.png)"
   ]
  },
  {
   "cell_type": "markdown",
   "id": "a39385d5-f465-4964-91a5-801f48286386",
   "metadata": {},
   "source": [
    "We can store the genetic code in a dictionary!"
   ]
  },
  {
   "cell_type": "code",
   "execution_count": null,
   "id": "ac346e6a-6159-4160-a5aa-22372120e300",
   "metadata": {},
   "outputs": [],
   "source": [
    "# Dictionary of {codon: AA (Amino Acid)}\n",
    "codon_to_AA = {\n",
    "    'AUA':'I', 'AUC':'I', 'AUU':'I', 'AUG':'M',\n",
    "    'ACA':'T', 'ACC':'T', 'ACG':'T', 'ACU':'T',\n",
    "    'AAC':'N', 'AAU':'N', 'AAA':'K', 'AAG':'K',\n",
    "    'AGC':'S', 'AGU':'S', 'AGA':'R', 'AGG':'R',\n",
    "    'CUA':'L', 'CUC':'L', 'CUG':'L', 'CUU':'L',\n",
    "    'CCA':'P', 'CCC':'P', 'CCG':'P', 'CCU':'P',\n",
    "    'CAC':'H', 'CAU':'H', 'CAA':'Q', 'CAG':'Q',\n",
    "    'CGA':'R', 'CGC':'R', 'CGG':'R', 'CGU':'R',\n",
    "    'GUA':'V', 'GUC':'V', 'GUG':'V', 'GUU':'V',\n",
    "    'GCA':'A', 'GCC':'A', 'GCG':'A', 'GCU':'A',\n",
    "    'GAC':'D', 'GAU':'D', 'GAA':'E', 'GAG':'E',\n",
    "    'GGA':'G', 'GGC':'G', 'GGG':'G', 'GGU':'G',\n",
    "    'UCA':'S', 'UCC':'S', 'UCG':'S', 'UCU':'S',\n",
    "    'UUC':'F', 'UUU':'F', 'UUA':'L', 'UUG':'L',\n",
    "    'UAC':'Y', 'UAU':'Y', 'UAA':'_', 'UAG':'_',\n",
    "    'UGC':'C', 'UGU':'C', 'UGA':'_', 'UGG':'W'\n",
    "}"
   ]
  },
  {
   "cell_type": "code",
   "execution_count": null,
   "id": "5c96e793-adc2-48df-950e-5f1a65ee1e8c",
   "metadata": {},
   "outputs": [],
   "source": [
    "### Change codon and see it give you a corresponding AA ###\n",
    "codon = 'AUA'\n",
    "AA = codon_to_AA[codon]\n",
    "print(f'{codon} encodes {AA}')"
   ]
  },
  {
   "cell_type": "markdown",
   "id": "04943924-162f-43ec-8df2-e858fd31beeb",
   "metadata": {},
   "source": [
    "**Challenge**: Using the dictionary and what we have learned so far, translate the following RNA string to a protein sequence!\n",
    "\n",
    "<details>\n",
    "  <summary>Hint 1</summary>\n",
    "  \n",
    "   *hint 1*: Each codon consists of three nucleotides and we can get the start index of each codon by `range(0, len(rna_sequence), 3)`\n",
    "</details>\n",
    "\n",
    "\n",
    "<details>\n",
    "  <summary>Hint 2</summary>\n",
    "  \n",
    "   *hint 2*: `codon = rna_sequence[i:i+3]` and we can get the corresponding amino acid using the dictionary\n",
    " \n",
    "</details>\n",
    "\n",
    "<details>\n",
    "  <summary>Hint 3</summary>  \n",
    "    \n",
    "   *hint 3*: Each time you get an amino acid, make sure to add it to your protein sequence by `protein_sequence += `\n",
    "</details>"
   ]
  },
  {
   "cell_type": "code",
   "execution_count": null,
   "id": "b743ee86-ff21-47e0-8bc4-b1cfc9bdb6e7",
   "metadata": {},
   "outputs": [],
   "source": [
    "rna = 'AUGCAUGCGAAUGCAGCGGCUAGCAGACUGACUGUUAUGCUGGGAUCGUGCCGCUAG'\n",
    "protein_sequence = ''\n",
    "\n",
    "### Write your code here ###\n",
    "\n",
    "\n",
    "\n",
    "\n",
    "print(protein_sequence)"
   ]
  },
  {
   "cell_type": "markdown",
   "id": "7e2841f3-0b63-42c1-b55b-e018bc8b7f96",
   "metadata": {},
   "source": [
    "When using loops in programming, you might occasionally want to exit the loop before it has completed all its iterations, especially if you have already achieved your desired result. For example, in the translation of an RNA sequence, the process should stop as soon as a stop codon is encountered. To get out of a loop, you can use the `break` statement like below:"
   ]
  },
  {
   "cell_type": "code",
   "execution_count": null,
   "id": "0470f7b9-2a35-4a77-bba9-fa9b1927e0dc",
   "metadata": {},
   "outputs": [],
   "source": [
    "# The first line says looping from 0 to 9 but...\n",
    "for i in range(10):\n",
    "    print(i)\n",
    "    if i == 3:\n",
    "        print(\"Breaking the loop!!\")\n",
    "        break"
   ]
  },
  {
   "cell_type": "markdown",
   "id": "c4062c55-4d40-4478-8c92-d73ae006c041",
   "metadata": {},
   "source": [
    "Adjust your previous code so that the translation stops immediately when a stop codon appears. After modifying the code, run it with a new sequence that includes a stop codon in the middle, and print out the protein sequence up to that point"
   ]
  },
  {
   "cell_type": "code",
   "execution_count": null,
   "id": "82400720-98fc-41d6-acb3-6d88049f1608",
   "metadata": {},
   "outputs": [],
   "source": [
    "rna = 'AUGCAAGACAGGGAUCUAUUUACGAUCAGGCAUCGAUCGAUCGAUGCUAGCUAGCGGGAUCGCACGAUACUAGCCCGAUGCUAGCUUUUAUGCUCGUAGCUGCCCGUACGUUAUUUAGCCUGCUGUGCGAAUGCAGCGGCUAGCAGACUGACUGUUAUGCUGGGAUCGUGCCGCUAG'\n",
    "protein_sequence = ''\n",
    "\n",
    "### Write your code here ###\n",
    "\n",
    "\n",
    "\n",
    "\n",
    "print(protein_sequence)"
   ]
  },
  {
   "cell_type": "markdown",
   "id": "8285f4fb-09a3-4d73-a651-19fa3e501f0e",
   "metadata": {},
   "source": [
    "**Bonus Challenge**: Can you translate the given sequence in all three reading frames? Do you see each reading frame generates a different protein sequence, each of which has a start codon and a stop codon?"
   ]
  },
  {
   "cell_type": "code",
   "execution_count": null,
   "id": "dd3f78d6-d73d-48f8-b262-1a46642dfac2",
   "metadata": {},
   "outputs": [],
   "source": [
    "rna = 'AUGCAAGACAGGGAUCUAUUUACGAUCAGGCAUCGAUCGAUCGAUGCUAGCUAGCGGGAUCGCACGAUACUAGCCCGAUGCUAGCUUUUAUGCUCGUAGCUGCCCGUACGUUAUUUAGCCUGCUGUGCGAAUGCAGCGGCUAGCAGACUGACUGUUAUGCUGGGAUCGUGCCGCUAG'\n",
    "protein_sequence = ''\n",
    "\n",
    "### Write your code here ###\n",
    "\n",
    "\n",
    "\n",
    "\n",
    "print(protein_sequence)"
   ]
  },
  {
   "cell_type": "markdown",
   "id": "88cf9496-1122-4166-84a2-bfe16e706723",
   "metadata": {},
   "source": [
    "****"
   ]
  },
  {
   "cell_type": "markdown",
   "id": "9eef52ba-60db-4a03-b701-ee66b5ae182d",
   "metadata": {},
   "source": [
    "# FUNctions\n",
    "\n",
    "Now that we've learned how to perform several tasks together, let's streamline our work by wrapping them into functions. You've already seen and used various Python functions, like `print()`, `len()`, and `randint()`, which perform specific tasks. Just like these, we can create our own custom functions to make our code more organized, reusable, and efficient.\n",
    "\n",
    "Here is how you can define a simple function:"
   ]
  },
  {
   "cell_type": "code",
   "execution_count": null,
   "id": "5eb70248-312a-4420-9de1-7fb3e0055cb7",
   "metadata": {},
   "outputs": [],
   "source": [
    "def greet():\n",
    "    print(\"Hello there\")"
   ]
  },
  {
   "cell_type": "markdown",
   "id": "ceb4598b-7f1c-49e5-9b70-16772516d3b8",
   "metadata": {},
   "source": [
    "This function, named `greet`, simply prints \"Hello there!\" when it is called; run the following cell and make sure you see the output:"
   ]
  },
  {
   "cell_type": "code",
   "execution_count": null,
   "id": "dc98531a-8e22-49d8-aa82-7a6e1cd731cd",
   "metadata": {},
   "outputs": [],
   "source": [
    "greet()"
   ]
  },
  {
   "cell_type": "markdown",
   "id": "741d99f1-9f39-4e77-8647-987f1f22ff81",
   "metadata": {},
   "source": [
    "Defining a function in Python follows a specific syntax:\n",
    "\n",
    "```\n",
    "def function_name():\n",
    "    # code to execute\n",
    "```\n",
    "\n",
    "* `def`: This special keyword indicates that you are defining a new Python function\n",
    "* `function_name`: An arbitrary name for your function, followed by parentheses `()` and colon `:`\n",
    "* indent: The code inside the function must be indented (four spaces!). Proper indentation is crucial as it defines the scope of the function's code block.\n",
    "\n",
    "After you define a function, you can run the function by `function_name()`\n",
    "\n",
    "Fix the following code block and call the function twice:"
   ]
  },
  {
   "cell_type": "code",
   "execution_count": null,
   "id": "dc72fda5-34d8-4104-8f75-918aff1f2bed",
   "metadata": {},
   "outputs": [],
   "source": [
    "### Fix the code below ###\n",
    "\n",
    "greet_evening()\n",
    "\n",
    "def greet_evening():\n",
    "    print(\"Good evening!\")\n"
   ]
  },
  {
   "cell_type": "markdown",
   "id": "8a77ec42-39e9-4d74-bada-83ae7c1ae6f4",
   "metadata": {},
   "source": [
    "## Functions with parameters\n",
    "\n",
    "Functions can accept one or more **parameters** (also known as **arguments**), which would allow them to operate on different data inputs and provide more flexibility! Here's how you can define a function with multiple parameters:\n",
    "\n",
    "```\n",
    "def function_name(parameter1, parameter2, ..., parameterN):\n",
    "    # code to execute\n",
    "```\n",
    "\n",
    "Just like function names, parameters can be named anything, but it's important to choose names that are meaningful and descriptive just as any other variable names:"
   ]
  },
  {
   "cell_type": "code",
   "execution_count": null,
   "id": "9ed05888-259b-424a-a504-b5642161a228",
   "metadata": {},
   "outputs": [],
   "source": [
    "def greet_name(name):\n",
    "    print(f\"Hello there, {name}!\")\n",
    "\n",
    "greet_name('Alice')"
   ]
  },
  {
   "cell_type": "markdown",
   "id": "e94dde68-e050-455e-9caa-bc640ae0326f",
   "metadata": {},
   "source": [
    "Change the `name` parameter value and make sure the function performs the same operation but with different names"
   ]
  },
  {
   "cell_type": "code",
   "execution_count": null,
   "id": "de961ef8-d350-4113-961c-ac4faf17401f",
   "metadata": {},
   "outputs": [],
   "source": [
    "### Change the name value ###\n",
    "\n",
    "my_name = ''\n",
    "greet_name(my_name)  # Here you are passing a value stored in my_name"
   ]
  },
  {
   "cell_type": "markdown",
   "id": "232920a5-2940-4303-b99b-edea2df35d8d",
   "metadata": {},
   "source": [
    "Sometimes you might not want to provide a value for every parameter every time you call a function. In Python, you can make function parameters optional by setting a default value when defining them. Common default values include an empty string `''`, the keyword `None`, which represents a null value, or any value you wish:"
   ]
  },
  {
   "cell_type": "code",
   "execution_count": null,
   "id": "ce40d098-fbec-45d4-a8e8-d8ef811806f6",
   "metadata": {},
   "outputs": [],
   "source": [
    "def greet_time(name, time='Morning'):\n",
    "    if time == 'Morning':\n",
    "        print(f'Good morning, {name}!')\n",
    "    elif time == 'Evening': \n",
    "        print(f'Good evening, {name}!')\n",
    "    else:\n",
    "        print(f'Hi, {name}!')\n",
    "\n",
    "greet_time('Alice')\n",
    "greet_time('Bob', 'Evening')\n",
    "greet_time('Mike', 'Afternoon')"
   ]
  },
  {
   "cell_type": "markdown",
   "id": "8f2548dd-39f6-46db-b8df-3fc1a147e107",
   "metadata": {},
   "source": [
    "## Returning values from Functions\n",
    "\n",
    "Functions can also return values back to us using the `return` keyword. This is useful when you want to continue using the result of the function in your code:"
   ]
  },
  {
   "cell_type": "code",
   "execution_count": null,
   "id": "969f51d0-ae92-40d4-a095-51560124fd23",
   "metadata": {},
   "outputs": [],
   "source": [
    "def dna_to_rna(dna):\n",
    "    rna = dna.replace('t', 'u')\n",
    "    return rna\n",
    "\n",
    "my_dna = 'agcttttacgtcgatcctgcta'\n",
    "my_rna = dna_to_rna(my_dna)\n",
    "print(my_rna)"
   ]
  },
  {
   "cell_type": "markdown",
   "id": "ae8191d5-f41d-436e-81cc-b89cd296aca2",
   "metadata": {},
   "source": [
    "In this example, we define a function called `dna_to_rna` that converts a DNA sequence into an RNA sequence. This function takes a single parameter, `dna`, and replaces all instances of `t` with `u`, effectively transcribing DNA to RNA. After defining the function, we use it to convert the DNA sequence stored in `my_dna` to RNA, storing the result in `my_rna`. "
   ]
  },
  {
   "cell_type": "markdown",
   "id": "44a95e55-7453-4ef7-9ea5-21e67ad63d1b",
   "metadata": {},
   "source": [
    "**Challenge**: Write functions to do the following:\n",
    "\n",
    "1. Calculates the GC content of a given DNA string\n",
    "<details>\n",
    "  <summary>Hint</summary>\n",
    "  \n",
    "   `string.count(value)` gives you the number of times `value` appears in the string\n",
    "</details>"
   ]
  },
  {
   "cell_type": "code",
   "execution_count": null,
   "id": "d4293901-7e9a-4359-8bf1-44d880ab7694",
   "metadata": {},
   "outputs": [],
   "source": [
    "### Write your code here ###\n",
    "def calculate_GC(dna):\n",
    "\n",
    "\n",
    "\n"
   ]
  },
  {
   "cell_type": "markdown",
   "id": "1305b7a8-76c0-4099-917c-07191d29f213",
   "metadata": {},
   "source": [
    "2. Generates a random string of DNA of a given length where each nucleotide has the same likelihood\n",
    "<details>\n",
    "  <summary>Hint</summary>\n",
    "  \n",
    "   `random.choice(list_of_outcomes, p = likelihood_of_outcomes)`\n",
    "</details>"
   ]
  },
  {
   "cell_type": "code",
   "execution_count": null,
   "id": "4db14b71-39cc-4617-a131-cb9d37fb5ad2",
   "metadata": {},
   "outputs": [],
   "source": [
    "### Write your code here ###\n",
    "def generate_DNA():  # any parameter?\n",
    "\n",
    "\n",
    "\n",
    "\n"
   ]
  },
  {
   "cell_type": "markdown",
   "id": "6f19c24d-fc81-4ae0-a414-7f572cb6aa64",
   "metadata": {},
   "source": [
    "If you have successfully defined each function, you should be able to run the following code and make sure your GC content is around 50%:"
   ]
  },
  {
   "cell_type": "markdown",
   "id": "ecdde8df-df27-4656-bb28-369712c5e145",
   "metadata": {},
   "source": [
    "****"
   ]
  },
  {
   "cell_type": "code",
   "execution_count": null,
   "id": "6ebdc578-399a-48ea-832a-80c773675738",
   "metadata": {},
   "outputs": [],
   "source": [
    "DNA_generated = generate_DNA(100)\n",
    "GC_content = calculate_GC(DNA_generated)\n",
    "print(DNA_generated)\n",
    "print(f'GC content of my randomly generated DNA sequence is: {GC_content*100:.2f}')"
   ]
  },
  {
   "cell_type": "markdown",
   "id": "3b7d3517-f689-4e5f-9c47-fc3594979f26",
   "metadata": {},
   "source": [
    "## Local Variables vs. Global Variables\n",
    "\n",
    "In programming, it's important to understand where variables can be used once they are defined. Let's explore the difference between **local** and **global** variables.\n",
    "\n",
    "Variables created inside a function are called **local variables**. This means they can only be accessed from within the function where they were defined. Here’s an example to illustrate this:"
   ]
  },
  {
   "cell_type": "code",
   "execution_count": null,
   "id": "6894e508-92f2-493b-8d68-fd4be7174439",
   "metadata": {},
   "outputs": [],
   "source": [
    "def print_local_variable():\n",
    "    my_local_variable = \"I am a local variable\"\n",
    "    print(my_local_variable)\n",
    "\n",
    "print_local_variable()"
   ]
  },
  {
   "cell_type": "markdown",
   "id": "bbf38666-99e8-43e3-8024-f3ed7c427f2d",
   "metadata": {},
   "source": [
    "In the above example, `my_local_variable` is a local variable to the function `print_local_variable()`. It gets created when the function is called and then it can be used within this function. What do you think will happen if we try to access a local variable outside of its function? Let's see what happens by running the next cell:"
   ]
  },
  {
   "cell_type": "code",
   "execution_count": null,
   "id": "3ef0eec6-6f0a-40aa-bb38-2da9c9ffac3e",
   "metadata": {},
   "outputs": [],
   "source": [
    "print(my_local_variable)"
   ]
  },
  {
   "cell_type": "markdown",
   "id": "c1bbd5be-5736-45a0-aeaa-1732d9cd9516",
   "metadata": {},
   "source": [
    "This will result in an error message because `my_local_variable` does not exist outside the function `print_local_variable()`.\n",
    "\n",
    "On the other hand, **global variables** are defined outside of functions and can be accessed from any part of the code. Here is how you can use a global variable:"
   ]
  },
  {
   "cell_type": "code",
   "execution_count": null,
   "id": "bef65ee4-b603-4381-b834-c848c914db82",
   "metadata": {},
   "outputs": [],
   "source": [
    "my_global_variable = \"You can call me from anywhere\"\n",
    "\n",
    "def print_global_variable():\n",
    "    print(my_global_variable)\n",
    "\n",
    "print_global_variable()"
   ]
  },
  {
   "cell_type": "markdown",
   "id": "09f69707-b775-422e-a421-938381e06227",
   "metadata": {},
   "source": [
    "****"
   ]
  },
  {
   "cell_type": "markdown",
   "id": "a09a2abf-cb3d-4246-930d-d7b6c66f66d8",
   "metadata": {},
   "source": [
    "# Last Challenge!!"
   ]
  },
  {
   "cell_type": "code",
   "execution_count": null,
   "id": "75b901aa-24b6-4774-a1b9-3617715bdba1",
   "metadata": {},
   "outputs": [],
   "source": []
  }
 ],
 "metadata": {
  "kernelspec": {
   "display_name": "Python 3 (ipykernel)",
   "language": "python",
   "name": "python3"
  },
  "language_info": {
   "codemirror_mode": {
    "name": "ipython",
    "version": 3
   },
   "file_extension": ".py",
   "mimetype": "text/x-python",
   "name": "python",
   "nbconvert_exporter": "python",
   "pygments_lexer": "ipython3",
   "version": "3.11.5"
  }
 },
 "nbformat": 4,
 "nbformat_minor": 5
}
